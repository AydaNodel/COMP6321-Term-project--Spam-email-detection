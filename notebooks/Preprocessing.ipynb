{
<<<<<<< HEAD
  "cells": [
    {
      "cell_type": "markdown",
      "metadata": {
        "id": "kcmPpXdM6Ect"
      },
      "source": [
        "**Libraries**\n"
      ]
    },
    {
      "cell_type": "code",
      "execution_count": null,
      "metadata": {
        "id": "3i-oOY_Q0sHw"
      },
      "outputs": [],
      "source": [
        "#Libraries\n",
        "import numpy as np\n",
        "import pandas as pd\n",
        "import re\n",
        "\n",
        "# Visualization tools\n",
        "import matplotlib.pyplot as plt\n",
        "import seaborn as sns\n",
        "\n",
        "# Word Cloud library\n",
        "from wordcloud import WordCloud, STOPWORDS\n",
        "\n",
        "# Library used for data preprocessing\n",
        "from datasets import load_dataset, DatasetDict, Dataset, ClassLabel\n",
        "from transformers import AutoTokenizer\n",
        "\n",
        "# Model selection libraries\n",
        "from sklearn.model_selection import train_test_split\n",
        "\n",
        "# Library used for ignore warnings\n",
        "import warnings\n",
        "warnings.filterwarnings('ignore')\n",
        "%matplotlib inline"
      ]
    },
    {
      "cell_type": "markdown",
      "metadata": {
        "id": "CCPHkTYZ6J3-"
      },
      "source": [
        "**Dataset Loading**"
      ]
    },
    {
      "cell_type": "code",
      "execution_count": null,
      "metadata": {
        "id": "2AHFhJXqzyTb"
      },
      "outputs": [],
      "source": [
        "dataset = load_dataset(\"bourigue/data_email_spam\")\n",
        "print(dataset)"
      ]
    },
    {
      "cell_type": "code",
      "execution_count": null,
      "metadata": {
        "colab": {
          "base_uri": "https://localhost:8080/",
          "height": 206
        },
        "id": "1dxC6xYO0ntB",
        "outputId": "d8e0d7e3-310b-4410-d2c3-d05358ab0f2d"
      },
      "outputs": [
        {
          "data": {
            "application/vnd.google.colaboratory.intrinsic+json": {
              "summary": "{\n  \"name\": \"df\",\n  \"rows\": 85782,\n  \"fields\": [\n    {\n      \"column\": \"text_combined\",\n      \"properties\": {\n        \"dtype\": \"string\",\n        \"num_unique_values\": 82078,\n        \"samples\": [\n          \"dates times possible meeting discuss back office autom ation please see attached questions please call brenda flores cuellar 713 853 1914 tom gros 713 853 5537 original message greg drillock enron nron enron com sent tuesday february 27 2001 4 29 pm solmonson mary cc gros thomas jeff rosenzweig vincent loud subject dates times possible meeting discuss back office autom ation jeff would like come visit next wednesday march 7 th could schedule meeting 11 original message solmonson mary mailto mary solmonson enron com sent monday february 26 2001 6 19 pm greg drillock e mail cc gros thomas subject dates times possible meeting discuss back office automation enjoyed speaking last week promised proposed times meeting houston explore opportunity offer detail also spoken representatives enron online regarding desire receive feed deal data eol someone available discuss potential solutions proposed dates times pick let know suits schedule best thinking spend first bit time giving overview working proposing go probably spend 2 hours first meeting wednesday 3 7 anytime 10 5 thursday 3 8 anytime 8 12 friday 3 9 anytime 11 5 would also enjoy opportunity treat lunch scheduling permits let know day time works best proceed finalizing schedule e mail contains privileged attorney client communications confidential information use intended recipient receipt unintended recipient constitute waiver applicable privilege reading disclosure discussion dissemination distribution copying information anyone intended recipient employees agents strictly prohibited received communication error please immediately notify us delete original material computer sempra energy trading corp set company sdg e socalgas utilities owned set parent company set regulated california public utilities commission buy set products services continue receive quality regulated service utilities\",\n          \"ambllen alprazzolam aluum llgra caalls levltrra xana loraazepam merldlla tramadool action break thank busy street one money object king morning wine buy exaggerate completely stairs necessary principle progress similar pleasure knew idea arm supposedto hard buy medsall countriies shiiping 150 hottest selling meds choose foundmoney clicck order whatever back ten spent keeping god likely friend servants fallen repeated wonder independence horses example pretty lot rich forest next come may wish trees worthy pay central necessary force blue situation stay development light open end certain cant similar become\",\n          \"corinatomawebmailcoza public announcement new name domain extension currently released general public unlike original com net domain names new name domain specifically created individuals name domain appears format firstnamelastnamename example name monica smith register name monicasmithname technology experts predict personalized domain names soon used international identifiers much phone numbers used today limited time preregister unique name domain 10 plus applicable registry fees httpwwwnamesforeveryonecom remove email address promotional mailings company click httpwwwcentralremovalservicecomcgibindomainremovecgi 21 9488ycte7565fwhf6137igcl4997l28 tue 28 may 2002 214940 0100 registration\"\n        ],\n        \"semantic_type\": \"\",\n        \"description\": \"\"\n      }\n    },\n    {\n      \"column\": \"label\",\n      \"properties\": {\n        \"dtype\": \"number\",\n        \"std\": 0,\n        \"min\": 0,\n        \"max\": 1,\n        \"num_unique_values\": 2,\n        \"samples\": [\n          1,\n          0\n        ],\n        \"semantic_type\": \"\",\n        \"description\": \"\"\n      }\n    }\n  ]\n}",
              "type": "dataframe",
              "variable_name": "df"
            },
            "text/html": [
              "\n",
              "  <div id=\"df-5a22e8da-d7e8-4240-b34a-026a65b8f9e4\" class=\"colab-df-container\">\n",
              "    <div>\n",
              "<style scoped>\n",
              "    .dataframe tbody tr th:only-of-type {\n",
              "        vertical-align: middle;\n",
              "    }\n",
              "\n",
              "    .dataframe tbody tr th {\n",
              "        vertical-align: top;\n",
              "    }\n",
              "\n",
              "    .dataframe thead th {\n",
              "        text-align: right;\n",
              "    }\n",
              "</style>\n",
              "<table border=\"1\" class=\"dataframe\">\n",
              "  <thead>\n",
              "    <tr style=\"text-align: right;\">\n",
              "      <th></th>\n",
              "      <th>text_combined</th>\n",
              "      <th>label</th>\n",
              "    </tr>\n",
              "  </thead>\n",
              "  <tbody>\n",
              "    <tr>\n",
              "      <th>0</th>\n",
              "      <td>fark rssfeedsspamassassintaintorg url httpwwwn...</td>\n",
              "      <td>0</td>\n",
              "    </tr>\n",
              "    <tr>\n",
              "      <th>1</th>\n",
              "      <td>alamac thanks painful got contract says 5 busi...</td>\n",
              "      <td>0</td>\n",
              "    </tr>\n",
              "    <tr>\n",
              "      <th>2</th>\n",
              "      <td>daily top 10 tanneryteunion104tnet daily top 1...</td>\n",
              "      <td>1</td>\n",
              "    </tr>\n",
              "    <tr>\n",
              "      <th>3</th>\n",
              "      <td>liza everett linpillardmetpillardde po dh ren ...</td>\n",
              "      <td>1</td>\n",
              "    </tr>\n",
              "    <tr>\n",
              "      <th>4</th>\n",
              "      <td>czanikhotmailcom font face3dverdana size3d3 co...</td>\n",
              "      <td>1</td>\n",
              "    </tr>\n",
              "  </tbody>\n",
              "</table>\n",
              "</div>\n",
              "    <div class=\"colab-df-buttons\">\n",
              "\n",
              "  <div class=\"colab-df-container\">\n",
              "    <button class=\"colab-df-convert\" onclick=\"convertToInteractive('df-5a22e8da-d7e8-4240-b34a-026a65b8f9e4')\"\n",
              "            title=\"Convert this dataframe to an interactive table.\"\n",
              "            style=\"display:none;\">\n",
              "\n",
              "  <svg xmlns=\"http://www.w3.org/2000/svg\" height=\"24px\" viewBox=\"0 -960 960 960\">\n",
              "    <path d=\"M120-120v-720h720v720H120Zm60-500h600v-160H180v160Zm220 220h160v-160H400v160Zm0 220h160v-160H400v160ZM180-400h160v-160H180v160Zm440 0h160v-160H620v160ZM180-180h160v-160H180v160Zm440 0h160v-160H620v160Z\"/>\n",
              "  </svg>\n",
              "    </button>\n",
              "\n",
              "  <style>\n",
              "    .colab-df-container {\n",
              "      display:flex;\n",
              "      gap: 12px;\n",
              "    }\n",
              "\n",
              "    .colab-df-convert {\n",
              "      background-color: #E8F0FE;\n",
              "      border: none;\n",
              "      border-radius: 50%;\n",
              "      cursor: pointer;\n",
              "      display: none;\n",
              "      fill: #1967D2;\n",
              "      height: 32px;\n",
              "      padding: 0 0 0 0;\n",
              "      width: 32px;\n",
              "    }\n",
              "\n",
              "    .colab-df-convert:hover {\n",
              "      background-color: #E2EBFA;\n",
              "      box-shadow: 0px 1px 2px rgba(60, 64, 67, 0.3), 0px 1px 3px 1px rgba(60, 64, 67, 0.15);\n",
              "      fill: #174EA6;\n",
              "    }\n",
              "\n",
              "    .colab-df-buttons div {\n",
              "      margin-bottom: 4px;\n",
              "    }\n",
              "\n",
              "    [theme=dark] .colab-df-convert {\n",
              "      background-color: #3B4455;\n",
              "      fill: #D2E3FC;\n",
              "    }\n",
              "\n",
              "    [theme=dark] .colab-df-convert:hover {\n",
              "      background-color: #434B5C;\n",
              "      box-shadow: 0px 1px 3px 1px rgba(0, 0, 0, 0.15);\n",
              "      filter: drop-shadow(0px 1px 2px rgba(0, 0, 0, 0.3));\n",
              "      fill: #FFFFFF;\n",
              "    }\n",
              "  </style>\n",
              "\n",
              "    <script>\n",
              "      const buttonEl =\n",
              "        document.querySelector('#df-5a22e8da-d7e8-4240-b34a-026a65b8f9e4 button.colab-df-convert');\n",
              "      buttonEl.style.display =\n",
              "        google.colab.kernel.accessAllowed ? 'block' : 'none';\n",
              "\n",
              "      async function convertToInteractive(key) {\n",
              "        const element = document.querySelector('#df-5a22e8da-d7e8-4240-b34a-026a65b8f9e4');\n",
              "        const dataTable =\n",
              "          await google.colab.kernel.invokeFunction('convertToInteractive',\n",
              "                                                    [key], {});\n",
              "        if (!dataTable) return;\n",
              "\n",
              "        const docLinkHtml = 'Like what you see? Visit the ' +\n",
              "          '<a target=\"_blank\" href=https://colab.research.google.com/notebooks/data_table.ipynb>data table notebook</a>'\n",
              "          + ' to learn more about interactive tables.';\n",
              "        element.innerHTML = '';\n",
              "        dataTable['output_type'] = 'display_data';\n",
              "        await google.colab.output.renderOutput(dataTable, element);\n",
              "        const docLink = document.createElement('div');\n",
              "        docLink.innerHTML = docLinkHtml;\n",
              "        element.appendChild(docLink);\n",
              "      }\n",
              "    </script>\n",
              "  </div>\n",
              "\n",
              "\n",
              "    <div id=\"df-407c4b9a-714e-45d5-891b-33d7d990e10c\">\n",
              "      <button class=\"colab-df-quickchart\" onclick=\"quickchart('df-407c4b9a-714e-45d5-891b-33d7d990e10c')\"\n",
              "                title=\"Suggest charts\"\n",
              "                style=\"display:none;\">\n",
              "\n",
              "<svg xmlns=\"http://www.w3.org/2000/svg\" height=\"24px\"viewBox=\"0 0 24 24\"\n",
              "     width=\"24px\">\n",
              "    <g>\n",
              "        <path d=\"M19 3H5c-1.1 0-2 .9-2 2v14c0 1.1.9 2 2 2h14c1.1 0 2-.9 2-2V5c0-1.1-.9-2-2-2zM9 17H7v-7h2v7zm4 0h-2V7h2v10zm4 0h-2v-4h2v4z\"/>\n",
              "    </g>\n",
              "</svg>\n",
              "      </button>\n",
              "\n",
              "<style>\n",
              "  .colab-df-quickchart {\n",
              "      --bg-color: #E8F0FE;\n",
              "      --fill-color: #1967D2;\n",
              "      --hover-bg-color: #E2EBFA;\n",
              "      --hover-fill-color: #174EA6;\n",
              "      --disabled-fill-color: #AAA;\n",
              "      --disabled-bg-color: #DDD;\n",
              "  }\n",
              "\n",
              "  [theme=dark] .colab-df-quickchart {\n",
              "      --bg-color: #3B4455;\n",
              "      --fill-color: #D2E3FC;\n",
              "      --hover-bg-color: #434B5C;\n",
              "      --hover-fill-color: #FFFFFF;\n",
              "      --disabled-bg-color: #3B4455;\n",
              "      --disabled-fill-color: #666;\n",
              "  }\n",
              "\n",
              "  .colab-df-quickchart {\n",
              "    background-color: var(--bg-color);\n",
              "    border: none;\n",
              "    border-radius: 50%;\n",
              "    cursor: pointer;\n",
              "    display: none;\n",
              "    fill: var(--fill-color);\n",
              "    height: 32px;\n",
              "    padding: 0;\n",
              "    width: 32px;\n",
              "  }\n",
              "\n",
              "  .colab-df-quickchart:hover {\n",
              "    background-color: var(--hover-bg-color);\n",
              "    box-shadow: 0 1px 2px rgba(60, 64, 67, 0.3), 0 1px 3px 1px rgba(60, 64, 67, 0.15);\n",
              "    fill: var(--button-hover-fill-color);\n",
              "  }\n",
              "\n",
              "  .colab-df-quickchart-complete:disabled,\n",
              "  .colab-df-quickchart-complete:disabled:hover {\n",
              "    background-color: var(--disabled-bg-color);\n",
              "    fill: var(--disabled-fill-color);\n",
              "    box-shadow: none;\n",
              "  }\n",
              "\n",
              "  .colab-df-spinner {\n",
              "    border: 2px solid var(--fill-color);\n",
              "    border-color: transparent;\n",
              "    border-bottom-color: var(--fill-color);\n",
              "    animation:\n",
              "      spin 1s steps(1) infinite;\n",
              "  }\n",
              "\n",
              "  @keyframes spin {\n",
              "    0% {\n",
              "      border-color: transparent;\n",
              "      border-bottom-color: var(--fill-color);\n",
              "      border-left-color: var(--fill-color);\n",
              "    }\n",
              "    20% {\n",
              "      border-color: transparent;\n",
              "      border-left-color: var(--fill-color);\n",
              "      border-top-color: var(--fill-color);\n",
              "    }\n",
              "    30% {\n",
              "      border-color: transparent;\n",
              "      border-left-color: var(--fill-color);\n",
              "      border-top-color: var(--fill-color);\n",
              "      border-right-color: var(--fill-color);\n",
              "    }\n",
              "    40% {\n",
              "      border-color: transparent;\n",
              "      border-right-color: var(--fill-color);\n",
              "      border-top-color: var(--fill-color);\n",
              "    }\n",
              "    60% {\n",
              "      border-color: transparent;\n",
              "      border-right-color: var(--fill-color);\n",
              "    }\n",
              "    80% {\n",
              "      border-color: transparent;\n",
              "      border-right-color: var(--fill-color);\n",
              "      border-bottom-color: var(--fill-color);\n",
              "    }\n",
              "    90% {\n",
              "      border-color: transparent;\n",
              "      border-bottom-color: var(--fill-color);\n",
              "    }\n",
              "  }\n",
              "</style>\n",
              "\n",
              "      <script>\n",
              "        async function quickchart(key) {\n",
              "          const quickchartButtonEl =\n",
              "            document.querySelector('#' + key + ' button');\n",
              "          quickchartButtonEl.disabled = true;  // To prevent multiple clicks.\n",
              "          quickchartButtonEl.classList.add('colab-df-spinner');\n",
              "          try {\n",
              "            const charts = await google.colab.kernel.invokeFunction(\n",
              "                'suggestCharts', [key], {});\n",
              "          } catch (error) {\n",
              "            console.error('Error during call to suggestCharts:', error);\n",
              "          }\n",
              "          quickchartButtonEl.classList.remove('colab-df-spinner');\n",
              "          quickchartButtonEl.classList.add('colab-df-quickchart-complete');\n",
              "        }\n",
              "        (() => {\n",
              "          let quickchartButtonEl =\n",
              "            document.querySelector('#df-407c4b9a-714e-45d5-891b-33d7d990e10c button');\n",
              "          quickchartButtonEl.style.display =\n",
              "            google.colab.kernel.accessAllowed ? 'block' : 'none';\n",
              "        })();\n",
              "      </script>\n",
              "    </div>\n",
              "\n",
              "    </div>\n",
              "  </div>\n"
            ],
            "text/plain": [
              "                                       text_combined  label\n",
              "0  fark rssfeedsspamassassintaintorg url httpwwwn...      0\n",
              "1  alamac thanks painful got contract says 5 busi...      0\n",
              "2  daily top 10 tanneryteunion104tnet daily top 1...      1\n",
              "3  liza everett linpillardmetpillardde po dh ren ...      1\n",
              "4  czanikhotmailcom font face3dverdana size3d3 co...      1"
            ]
          },
          "execution_count": 4,
          "metadata": {},
          "output_type": "execute_result"
        }
      ],
      "source": [
        "df = dataset['train'].to_pandas()\n",
        "df.head()"
      ]
    },
    {
      "cell_type": "code",
      "execution_count": null,
      "metadata": {
        "colab": {
          "base_uri": "https://localhost:8080/"
        },
        "id": "-x2bo4R482JZ",
        "outputId": "37d4e516-a890-4a54-a918-d2a1fab9670c"
      },
      "outputs": [
        {
          "name": "stdout",
          "output_type": "stream",
          "text": [
            "Dataset loaded: 85782 samples\n",
            "Class distribution:\n",
            "label\n",
            "0    42891\n",
            "1    42891\n",
            "Name: count, dtype: int64\n",
            "\n"
          ]
        }
      ],
      "source": [
        "print(f\"Dataset loaded: {len(df)} samples\")\n",
        "print(f\"Class distribution:\\n{df['label'].value_counts()}\\n\")"
      ]
    },
    {
      "cell_type": "markdown",
      "metadata": {
        "id": "TlhS3Cvw6o2e"
      },
      "source": [
        "**Dataset Visualization**"
      ]
    },
    {
      "cell_type": "code",
      "execution_count": null,
      "metadata": {
        "colab": {
          "base_uri": "https://localhost:8080/",
          "height": 444
        },
        "id": "TXKTyPp72Fga",
        "outputId": "abcb1e66-2a50-4557-e34b-abbd9aeb859c"
      },
      "outputs": [
        {
          "data": {
            "image/png": "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",
            "text/plain": [
              "<Figure size 500x500 with 1 Axes>"
            ]
          },
          "metadata": {},
          "output_type": "display_data"
        }
      ],
      "source": [
        "import matplotlib.pyplot as plt\n",
        "\n",
        "# Label distribution\n",
        "spread = df['label'].value_counts()\n",
        "\n",
        "# Pie chart\n",
        "plt.rcParams['figure.figsize'] = (5, 5)\n",
        "spread.plot(kind='pie', autopct='%1.2f%%', cmap='Set1')\n",
        "plt.title('Distribution of Spam vs Ham')\n",
        "plt.ylabel('')\n",
        "plt.show()\n"
      ]
    },
    {
      "cell_type": "markdown",
      "metadata": {
        "id": "aBbXNme7NuJz"
      },
      "source": [
        "Word Cloud Visualization:"
      ]
    },
    {
      "cell_type": "code",
      "execution_count": null,
      "metadata": {
        "colab": {
          "base_uri": "https://localhost:8080/",
          "height": 313
        },
        "id": "msQu4RZ82d52",
        "outputId": "532154df-a0d2-4492-f735-096d5e54d014"
      },
      "outputs": [
        {
          "data": {
            "image/png": "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",
            "text/plain": [
              "<Figure size 600x600 with 1 Axes>"
            ]
          },
          "metadata": {},
          "output_type": "display_data"
        }
      ],
      "source": [
        "df_spam = df[df['label'] == 1]\n",
        "stopwords = set(STOPWORDS)\n",
        "text = \" \".join(df_spam['text_combined'].astype(str).tolist()).lower()\n",
        "\n",
        "wordcloud = WordCloud(\n",
        "    width=1000,\n",
        "    height=500,\n",
        "    background_color='white',\n",
        "    stopwords=stopwords,\n",
        "    max_words=1000\n",
        ").generate(text)\n",
        "\n",
        "plt.figure(figsize=(6, 6))\n",
        "plt.title(\"Most Used Words in Spam Messages\", fontsize=15, pad=20)\n",
        "plt.imshow(wordcloud, interpolation='bilinear')\n",
        "plt.axis('off')\n",
        "plt.show()\n"
      ]
    },
    {
      "cell_type": "markdown",
      "metadata": {
        "id": "hPfUbQphN1Lu"
      },
      "source": [
        "**Preprocessing Dataset**"
      ]
    },
    {
      "cell_type": "code",
      "execution_count": null,
      "metadata": {
        "id": "LsikJZF9IrrE"
      },
      "outputs": [],
      "source": [
        "CONFIG = {\n",
        "    'model_name': 'distilbert-base-uncased',\n",
        "    'max_length': 128,\n",
        "    'train_split': 0.7,\n",
        "    'val_split': 0.1,\n",
        "    'test_split': 0.2,\n",
        "    'seed': 42\n",
        "}\n",
        "\n",
        "# Normalization:\n",
        "\n",
        "def normalize_text(text):\n",
        "    #Normalizing and cleaning email text while preserving spam indicators\n",
        "\n",
        "    if pd.isna(text):\n",
        "        return \"\"\n",
        "\n",
        "    text = str(text)\n",
        "\n",
        "    #Lowercase\n",
        "    text = text.lower()\n",
        "\n",
        "    #Normalize repeated characters (such as \"oooo \" or \"eeeee\")\n",
        "    text = re.sub(r'(.)\\1{2,}', r'\\1\\1', text)\n",
        "\n",
        "    #Normalize numbers and replace with NUMBER token\n",
        "    text = re.sub(r'\\d+', ' NUMBER ', text)\n",
        "\n",
        "    #Normalize currency symbols\n",
        "    text = re.sub(r'[$£€¥₹]', ' CURRENCY ', text)\n",
        "\n",
        "    #Replace URLs with URL token\n",
        "    text = re.sub(r'http\\S+|www\\.\\S+', ' URL ', text)\n",
        "\n",
        "    #Replace email addresses with EMAIL token\n",
        "    text = re.sub(r'\\S+@\\S+', ' EMAIL ', text)\n",
        "\n",
        "    #Normalize excessive punctuation\n",
        "    text = re.sub(r'!{2,}', ' EXCLAMATION ', text)\n",
        "    text = re.sub(r'\\?{2,}', ' QUESTION ', text)\n",
        "\n",
        "    #Remove HTML tags\n",
        "    text = re.sub(r'<[^>]+>', '', text)\n",
        "\n",
        "    #Remove special characters\n",
        "    text = re.sub(r'[^\\w\\s!?$]', ' ', text)\n",
        "\n",
        "    #Normalize whitespace\n",
        "    text = re.sub(r'\\s+', ' ', text).strip()\n",
        "\n",
        "    #Remove very short texts\n",
        "    if len(text) < 10:\n",
        "        return \"\"\n",
        "\n",
        "    return text\n",
        "\n",
        "df['text_combined'] = df['text_combined'].apply(normalize_text)\n",
        "\n",
        "# Remove empty texts after normalization\n",
        "df = df[df['text_combined'].str.len() > 0].reset_index(drop=True)\n",
        "print(f\"Normalization complete: {len(df)} samples remaining\")"
      ]
    },
    {
      "cell_type": "markdown",
      "metadata": {
        "id": "47Ffp88qJxUe"
      },
      "source": [
        "**Splitting dataset**"
      ]
    },
    {
      "cell_type": "code",
      "execution_count": null,
      "metadata": {
        "id": "QGZY8CO1JvDv"
      },
      "outputs": [],
      "source": [
        "#Test set:\n",
        "train_val_df, test_df = train_test_split(\n",
        "    df,\n",
        "    test_size=CONFIG['test_split'],\n",
        "    random_state=CONFIG['seed'],\n",
        "    stratify=df['label']\n",
        ")\n",
        "\n",
        "#Validation set from training set:\n",
        "val_size = CONFIG['val_split'] / (CONFIG['train_split'] + CONFIG['val_split'])\n",
        "train_df, val_df = train_test_split(\n",
        "    train_val_df,\n",
        "    test_size=val_size,\n",
        "    random_state=CONFIG['seed'],\n",
        "    stratify=train_val_df['label']\n",
        ")\n",
        "\n",
        "print(f\" Train set: {len(train_df)} samples\")\n",
        "print(f\"  - Ham: {(train_df['label']==0).sum()}, Spam: {(train_df['label']==1).sum()}\")\n",
        "print(f\" Validation set: {len(val_df)} samples\")\n",
        "print(f\"  - Ham: {(val_df['label']==0).sum()}, Spam: {(val_df['label']==1).sum()}\")\n",
        "print(f\" Test set: {len(test_df)} samples\")\n",
        "print(f\"  - Ham: {(test_df['label']==0).sum()}, Spam: {(test_df['label']==1).sum()}\")"
      ]
    },
    {
      "cell_type": "markdown",
      "metadata": {
        "id": "iwT9HtIaJ9gA"
      },
      "source": [
        "**Tokenization**"
      ]
    },
    {
      "cell_type": "code",
      "execution_count": 6,
      "metadata": {
        "colab": {
          "base_uri": "https://localhost:8080/",
          "height": 423,
          "referenced_widgets": [
            "04d98d95dba24cfe9d160c21df47df04",
            "1ea537a4c4f545738e732a803976f9e3",
            "1a262e83cf06487ea1ed93e5c63fd661",
            "281b858b3da6461ebabe30b5fc1a9a1f",
            "53c9e2e2bfa64a75bdd92656ce0d5599",
            "f8a5e8f99cd5447587bbf9ce1fe38dd8",
            "32d6e8b7780949b28cba0e1b214b8391",
            "980768470a4646269b7b7a90aa7395be",
            "d33401ba3ff742ca9757120e81c50162",
            "b3bb0168ec1d4bdb81a670f17a2245b8",
            "22ad439995234dea841b487534af89f6"
          ]
        },
        "id": "fAePVpDAJs4M",
        "outputId": "57e350a4-5f94-4543-af8f-d4cd46dc8839"
      },
      "outputs": [
        {
          "data": {
            "application/vnd.jupyter.widget-view+json": {
              "model_id": "04d98d95dba24cfe9d160c21df47df04",
              "version_major": 2,
              "version_minor": 0
            },
            "text/plain": [
              "Map:   0%|          | 0/60043 [00:00<?, ? examples/s]"
            ]
          },
          "metadata": {},
          "output_type": "display_data"
        },
        {
          "ename": "KeyboardInterrupt",
          "evalue": "",
          "output_type": "error",
          "traceback": [
            "\u001b[0;31m---------------------------------------------------------------------------\u001b[0m",
            "\u001b[0;31mKeyboardInterrupt\u001b[0m                         Traceback (most recent call last)",
            "\u001b[0;32m/tmp/ipython-input-3290148653.py\u001b[0m in \u001b[0;36m<cell line: 0>\u001b[0;34m()\u001b[0m\n\u001b[1;32m     17\u001b[0m \u001b[0mtest_dataset\u001b[0m \u001b[0;34m=\u001b[0m \u001b[0mDataset\u001b[0m\u001b[0;34m.\u001b[0m\u001b[0mfrom_pandas\u001b[0m\u001b[0;34m(\u001b[0m\u001b[0mtest_df\u001b[0m\u001b[0;34m[\u001b[0m\u001b[0;34m[\u001b[0m\u001b[0;34m'text_combined'\u001b[0m\u001b[0;34m,\u001b[0m \u001b[0;34m'label'\u001b[0m\u001b[0;34m]\u001b[0m\u001b[0;34m]\u001b[0m\u001b[0;34m)\u001b[0m\u001b[0;34m\u001b[0m\u001b[0;34m\u001b[0m\u001b[0m\n\u001b[1;32m     18\u001b[0m \u001b[0;34m\u001b[0m\u001b[0m\n\u001b[0;32m---> 19\u001b[0;31m \u001b[0mtokenized_train\u001b[0m \u001b[0;34m=\u001b[0m \u001b[0mtrain_dataset\u001b[0m\u001b[0;34m.\u001b[0m\u001b[0mmap\u001b[0m\u001b[0;34m(\u001b[0m\u001b[0mtokenize_function\u001b[0m\u001b[0;34m,\u001b[0m \u001b[0mbatched\u001b[0m\u001b[0;34m=\u001b[0m\u001b[0;32mTrue\u001b[0m\u001b[0;34m,\u001b[0m \u001b[0mremove_columns\u001b[0m\u001b[0;34m=\u001b[0m\u001b[0;34m[\u001b[0m\u001b[0;34m'text_combined'\u001b[0m\u001b[0;34m,\u001b[0m \u001b[0;34m'label'\u001b[0m\u001b[0;34m]\u001b[0m\u001b[0;34m)\u001b[0m\u001b[0;34m\u001b[0m\u001b[0;34m\u001b[0m\u001b[0m\n\u001b[0m\u001b[1;32m     20\u001b[0m \u001b[0mtokenized_val\u001b[0m \u001b[0;34m=\u001b[0m \u001b[0mval_dataset\u001b[0m\u001b[0;34m.\u001b[0m\u001b[0mmap\u001b[0m\u001b[0;34m(\u001b[0m\u001b[0mtokenize_function\u001b[0m\u001b[0;34m,\u001b[0m \u001b[0mbatched\u001b[0m\u001b[0;34m=\u001b[0m\u001b[0;32mTrue\u001b[0m\u001b[0;34m,\u001b[0m \u001b[0mremove_columns\u001b[0m\u001b[0;34m=\u001b[0m\u001b[0;34m[\u001b[0m\u001b[0;34m'text_combined'\u001b[0m\u001b[0;34m,\u001b[0m \u001b[0;34m'label'\u001b[0m\u001b[0;34m]\u001b[0m\u001b[0;34m)\u001b[0m\u001b[0;34m\u001b[0m\u001b[0;34m\u001b[0m\u001b[0m\n\u001b[1;32m     21\u001b[0m \u001b[0mtokenized_test\u001b[0m \u001b[0;34m=\u001b[0m \u001b[0mtest_dataset\u001b[0m\u001b[0;34m.\u001b[0m\u001b[0mmap\u001b[0m\u001b[0;34m(\u001b[0m\u001b[0mtokenize_function\u001b[0m\u001b[0;34m,\u001b[0m \u001b[0mbatched\u001b[0m\u001b[0;34m=\u001b[0m\u001b[0;32mTrue\u001b[0m\u001b[0;34m,\u001b[0m \u001b[0mremove_columns\u001b[0m\u001b[0;34m=\u001b[0m\u001b[0;34m[\u001b[0m\u001b[0;34m'text_combined'\u001b[0m\u001b[0;34m,\u001b[0m \u001b[0;34m'label'\u001b[0m\u001b[0;34m]\u001b[0m\u001b[0;34m)\u001b[0m\u001b[0;34m\u001b[0m\u001b[0;34m\u001b[0m\u001b[0m\n",
            "\u001b[0;32m/usr/local/lib/python3.12/dist-packages/datasets/arrow_dataset.py\u001b[0m in \u001b[0;36mwrapper\u001b[0;34m(*args, **kwargs)\u001b[0m\n\u001b[1;32m    558\u001b[0m         }\n\u001b[1;32m    559\u001b[0m         \u001b[0;31m# apply actual function\u001b[0m\u001b[0;34m\u001b[0m\u001b[0;34m\u001b[0m\u001b[0m\n\u001b[0;32m--> 560\u001b[0;31m         \u001b[0mout\u001b[0m\u001b[0;34m:\u001b[0m \u001b[0mUnion\u001b[0m\u001b[0;34m[\u001b[0m\u001b[0;34m\"Dataset\"\u001b[0m\u001b[0;34m,\u001b[0m \u001b[0;34m\"DatasetDict\"\u001b[0m\u001b[0;34m]\u001b[0m \u001b[0;34m=\u001b[0m \u001b[0mfunc\u001b[0m\u001b[0;34m(\u001b[0m\u001b[0mself\u001b[0m\u001b[0;34m,\u001b[0m \u001b[0;34m*\u001b[0m\u001b[0margs\u001b[0m\u001b[0;34m,\u001b[0m \u001b[0;34m**\u001b[0m\u001b[0mkwargs\u001b[0m\u001b[0;34m)\u001b[0m\u001b[0;34m\u001b[0m\u001b[0;34m\u001b[0m\u001b[0m\n\u001b[0m\u001b[1;32m    561\u001b[0m         \u001b[0mdatasets\u001b[0m\u001b[0;34m:\u001b[0m \u001b[0mlist\u001b[0m\u001b[0;34m[\u001b[0m\u001b[0;34m\"Dataset\"\u001b[0m\u001b[0;34m]\u001b[0m \u001b[0;34m=\u001b[0m \u001b[0mlist\u001b[0m\u001b[0;34m(\u001b[0m\u001b[0mout\u001b[0m\u001b[0;34m.\u001b[0m\u001b[0mvalues\u001b[0m\u001b[0;34m(\u001b[0m\u001b[0;34m)\u001b[0m\u001b[0;34m)\u001b[0m \u001b[0;32mif\u001b[0m \u001b[0misinstance\u001b[0m\u001b[0;34m(\u001b[0m\u001b[0mout\u001b[0m\u001b[0;34m,\u001b[0m \u001b[0mdict\u001b[0m\u001b[0;34m)\u001b[0m \u001b[0;32melse\u001b[0m \u001b[0;34m[\u001b[0m\u001b[0mout\u001b[0m\u001b[0;34m]\u001b[0m\u001b[0;34m\u001b[0m\u001b[0;34m\u001b[0m\u001b[0m\n\u001b[1;32m    562\u001b[0m         \u001b[0;31m# re-apply format to the output\u001b[0m\u001b[0;34m\u001b[0m\u001b[0;34m\u001b[0m\u001b[0m\n",
            "\u001b[0;32m/usr/local/lib/python3.12/dist-packages/datasets/arrow_dataset.py\u001b[0m in \u001b[0;36mmap\u001b[0;34m(self, function, with_indices, with_rank, input_columns, batched, batch_size, drop_last_batch, remove_columns, keep_in_memory, load_from_cache_file, cache_file_name, writer_batch_size, features, disable_nullable, fn_kwargs, num_proc, suffix_template, new_fingerprint, desc, try_original_type)\u001b[0m\n\u001b[1;32m   3316\u001b[0m                 \u001b[0;32melse\u001b[0m\u001b[0;34m:\u001b[0m\u001b[0;34m\u001b[0m\u001b[0;34m\u001b[0m\u001b[0m\n\u001b[1;32m   3317\u001b[0m                     \u001b[0;32mfor\u001b[0m \u001b[0munprocessed_kwargs\u001b[0m \u001b[0;32min\u001b[0m \u001b[0munprocessed_kwargs_per_job\u001b[0m\u001b[0;34m:\u001b[0m\u001b[0;34m\u001b[0m\u001b[0;34m\u001b[0m\u001b[0m\n\u001b[0;32m-> 3318\u001b[0;31m                         \u001b[0;32mfor\u001b[0m \u001b[0mrank\u001b[0m\u001b[0;34m,\u001b[0m \u001b[0mdone\u001b[0m\u001b[0;34m,\u001b[0m \u001b[0mcontent\u001b[0m \u001b[0;32min\u001b[0m \u001b[0mDataset\u001b[0m\u001b[0;34m.\u001b[0m\u001b[0m_map_single\u001b[0m\u001b[0;34m(\u001b[0m\u001b[0;34m**\u001b[0m\u001b[0munprocessed_kwargs\u001b[0m\u001b[0;34m)\u001b[0m\u001b[0;34m:\u001b[0m\u001b[0;34m\u001b[0m\u001b[0;34m\u001b[0m\u001b[0m\n\u001b[0m\u001b[1;32m   3319\u001b[0m                             \u001b[0mcheck_if_shard_done\u001b[0m\u001b[0;34m(\u001b[0m\u001b[0mrank\u001b[0m\u001b[0;34m,\u001b[0m \u001b[0mdone\u001b[0m\u001b[0;34m,\u001b[0m \u001b[0mcontent\u001b[0m\u001b[0;34m)\u001b[0m\u001b[0;34m\u001b[0m\u001b[0;34m\u001b[0m\u001b[0m\n\u001b[1;32m   3320\u001b[0m \u001b[0;34m\u001b[0m\u001b[0m\n",
            "\u001b[0;32m/usr/local/lib/python3.12/dist-packages/datasets/arrow_dataset.py\u001b[0m in \u001b[0;36m_map_single\u001b[0;34m(shard, function, with_indices, with_rank, input_columns, batched, batch_size, drop_last_batch, remove_columns, keep_in_memory, cache_file_name, writer_batch_size, features, disable_nullable, fn_kwargs, new_fingerprint, rank, offset, try_original_type)\u001b[0m\n\u001b[1;32m   3672\u001b[0m                 \u001b[0;32melse\u001b[0m\u001b[0;34m:\u001b[0m\u001b[0;34m\u001b[0m\u001b[0;34m\u001b[0m\u001b[0m\n\u001b[1;32m   3673\u001b[0m                     \u001b[0m_time\u001b[0m \u001b[0;34m=\u001b[0m \u001b[0mtime\u001b[0m\u001b[0;34m.\u001b[0m\u001b[0mtime\u001b[0m\u001b[0;34m(\u001b[0m\u001b[0;34m)\u001b[0m\u001b[0;34m\u001b[0m\u001b[0;34m\u001b[0m\u001b[0m\n\u001b[0;32m-> 3674\u001b[0;31m                     \u001b[0;32mfor\u001b[0m \u001b[0mi\u001b[0m\u001b[0;34m,\u001b[0m \u001b[0mbatch\u001b[0m \u001b[0;32min\u001b[0m \u001b[0miter_outputs\u001b[0m\u001b[0;34m(\u001b[0m\u001b[0mshard_iterable\u001b[0m\u001b[0;34m)\u001b[0m\u001b[0;34m:\u001b[0m\u001b[0;34m\u001b[0m\u001b[0;34m\u001b[0m\u001b[0m\n\u001b[0m\u001b[1;32m   3675\u001b[0m                         \u001b[0mnum_examples_in_batch\u001b[0m \u001b[0;34m=\u001b[0m \u001b[0mlen\u001b[0m\u001b[0;34m(\u001b[0m\u001b[0mi\u001b[0m\u001b[0;34m)\u001b[0m\u001b[0;34m\u001b[0m\u001b[0;34m\u001b[0m\u001b[0m\n\u001b[1;32m   3676\u001b[0m                         \u001b[0;32mif\u001b[0m \u001b[0mupdate_data\u001b[0m\u001b[0;34m:\u001b[0m\u001b[0;34m\u001b[0m\u001b[0;34m\u001b[0m\u001b[0m\n",
            "\u001b[0;32m/usr/local/lib/python3.12/dist-packages/datasets/arrow_dataset.py\u001b[0m in \u001b[0;36miter_outputs\u001b[0;34m(shard_iterable)\u001b[0m\n\u001b[1;32m   3622\u001b[0m             \u001b[0;32melse\u001b[0m\u001b[0;34m:\u001b[0m\u001b[0;34m\u001b[0m\u001b[0;34m\u001b[0m\u001b[0m\n\u001b[1;32m   3623\u001b[0m                 \u001b[0;32mfor\u001b[0m \u001b[0mi\u001b[0m\u001b[0;34m,\u001b[0m \u001b[0mexample\u001b[0m \u001b[0;32min\u001b[0m \u001b[0mshard_iterable\u001b[0m\u001b[0;34m:\u001b[0m\u001b[0;34m\u001b[0m\u001b[0;34m\u001b[0m\u001b[0m\n\u001b[0;32m-> 3624\u001b[0;31m                     \u001b[0;32myield\u001b[0m \u001b[0mi\u001b[0m\u001b[0;34m,\u001b[0m \u001b[0mapply_function\u001b[0m\u001b[0;34m(\u001b[0m\u001b[0mexample\u001b[0m\u001b[0;34m,\u001b[0m \u001b[0mi\u001b[0m\u001b[0;34m,\u001b[0m \u001b[0moffset\u001b[0m\u001b[0;34m=\u001b[0m\u001b[0moffset\u001b[0m\u001b[0;34m)\u001b[0m\u001b[0;34m\u001b[0m\u001b[0;34m\u001b[0m\u001b[0m\n\u001b[0m\u001b[1;32m   3625\u001b[0m \u001b[0;34m\u001b[0m\u001b[0m\n\u001b[1;32m   3626\u001b[0m         \u001b[0mnum_examples_progress_update\u001b[0m \u001b[0;34m=\u001b[0m \u001b[0;36m0\u001b[0m\u001b[0;34m\u001b[0m\u001b[0;34m\u001b[0m\u001b[0m\n",
            "\u001b[0;32m/usr/local/lib/python3.12/dist-packages/datasets/arrow_dataset.py\u001b[0m in \u001b[0;36mapply_function\u001b[0;34m(pa_inputs, indices, offset)\u001b[0m\n\u001b[1;32m   3545\u001b[0m             \u001b[0;34m\"\"\"Utility to apply the function on a selection of columns.\"\"\"\u001b[0m\u001b[0;34m\u001b[0m\u001b[0;34m\u001b[0m\u001b[0m\n\u001b[1;32m   3546\u001b[0m             \u001b[0minputs\u001b[0m\u001b[0;34m,\u001b[0m \u001b[0mfn_args\u001b[0m\u001b[0;34m,\u001b[0m \u001b[0madditional_args\u001b[0m\u001b[0;34m,\u001b[0m \u001b[0mfn_kwargs\u001b[0m \u001b[0;34m=\u001b[0m \u001b[0mprepare_inputs\u001b[0m\u001b[0;34m(\u001b[0m\u001b[0mpa_inputs\u001b[0m\u001b[0;34m,\u001b[0m \u001b[0mindices\u001b[0m\u001b[0;34m,\u001b[0m \u001b[0moffset\u001b[0m\u001b[0;34m=\u001b[0m\u001b[0moffset\u001b[0m\u001b[0;34m)\u001b[0m\u001b[0;34m\u001b[0m\u001b[0;34m\u001b[0m\u001b[0m\n\u001b[0;32m-> 3547\u001b[0;31m             \u001b[0mprocessed_inputs\u001b[0m \u001b[0;34m=\u001b[0m \u001b[0mfunction\u001b[0m\u001b[0;34m(\u001b[0m\u001b[0;34m*\u001b[0m\u001b[0mfn_args\u001b[0m\u001b[0;34m,\u001b[0m \u001b[0;34m*\u001b[0m\u001b[0madditional_args\u001b[0m\u001b[0;34m,\u001b[0m \u001b[0;34m**\u001b[0m\u001b[0mfn_kwargs\u001b[0m\u001b[0;34m)\u001b[0m\u001b[0;34m\u001b[0m\u001b[0;34m\u001b[0m\u001b[0m\n\u001b[0m\u001b[1;32m   3548\u001b[0m             \u001b[0;32mreturn\u001b[0m \u001b[0mprepare_outputs\u001b[0m\u001b[0;34m(\u001b[0m\u001b[0mpa_inputs\u001b[0m\u001b[0;34m,\u001b[0m \u001b[0minputs\u001b[0m\u001b[0;34m,\u001b[0m \u001b[0mprocessed_inputs\u001b[0m\u001b[0;34m)\u001b[0m\u001b[0;34m\u001b[0m\u001b[0;34m\u001b[0m\u001b[0m\n\u001b[1;32m   3549\u001b[0m \u001b[0;34m\u001b[0m\u001b[0m\n",
            "\u001b[0;32m/tmp/ipython-input-3290148653.py\u001b[0m in \u001b[0;36mtokenize_function\u001b[0;34m(examples)\u001b[0m\n\u001b[1;32m      1\u001b[0m \u001b[0;32mdef\u001b[0m \u001b[0mtokenize_function\u001b[0m\u001b[0;34m(\u001b[0m\u001b[0mexamples\u001b[0m\u001b[0;34m)\u001b[0m\u001b[0;34m:\u001b[0m\u001b[0;34m\u001b[0m\u001b[0;34m\u001b[0m\u001b[0m\n\u001b[1;32m      2\u001b[0m \u001b[0;34m\u001b[0m\u001b[0m\n\u001b[0;32m----> 3\u001b[0;31m     tokens = tokenizer(\n\u001b[0m\u001b[1;32m      4\u001b[0m         \u001b[0mexamples\u001b[0m\u001b[0;34m[\u001b[0m\u001b[0;34m'text_combined'\u001b[0m\u001b[0;34m]\u001b[0m\u001b[0;34m,\u001b[0m\u001b[0;34m\u001b[0m\u001b[0;34m\u001b[0m\u001b[0m\n\u001b[1;32m      5\u001b[0m         \u001b[0mmax_length\u001b[0m\u001b[0;34m=\u001b[0m\u001b[0mCONFIG\u001b[0m\u001b[0;34m[\u001b[0m\u001b[0;34m'max_length'\u001b[0m\u001b[0;34m]\u001b[0m\u001b[0;34m,\u001b[0m\u001b[0;34m\u001b[0m\u001b[0;34m\u001b[0m\u001b[0m\n",
            "\u001b[0;32m/usr/local/lib/python3.12/dist-packages/transformers/tokenization_utils_base.py\u001b[0m in \u001b[0;36m__call__\u001b[0;34m(self, text, text_pair, text_target, text_pair_target, add_special_tokens, padding, truncation, max_length, stride, is_split_into_words, pad_to_multiple_of, padding_side, return_tensors, return_token_type_ids, return_attention_mask, return_overflowing_tokens, return_special_tokens_mask, return_offsets_mapping, return_length, verbose, **kwargs)\u001b[0m\n\u001b[1;32m   2936\u001b[0m             \u001b[0;32mif\u001b[0m \u001b[0;32mnot\u001b[0m \u001b[0mself\u001b[0m\u001b[0;34m.\u001b[0m\u001b[0m_in_target_context_manager\u001b[0m\u001b[0;34m:\u001b[0m\u001b[0;34m\u001b[0m\u001b[0;34m\u001b[0m\u001b[0m\n\u001b[1;32m   2937\u001b[0m                 \u001b[0mself\u001b[0m\u001b[0;34m.\u001b[0m\u001b[0m_switch_to_input_mode\u001b[0m\u001b[0;34m(\u001b[0m\u001b[0;34m)\u001b[0m\u001b[0;34m\u001b[0m\u001b[0;34m\u001b[0m\u001b[0m\n\u001b[0;32m-> 2938\u001b[0;31m             \u001b[0mencodings\u001b[0m \u001b[0;34m=\u001b[0m \u001b[0mself\u001b[0m\u001b[0;34m.\u001b[0m\u001b[0m_call_one\u001b[0m\u001b[0;34m(\u001b[0m\u001b[0mtext\u001b[0m\u001b[0;34m=\u001b[0m\u001b[0mtext\u001b[0m\u001b[0;34m,\u001b[0m \u001b[0mtext_pair\u001b[0m\u001b[0;34m=\u001b[0m\u001b[0mtext_pair\u001b[0m\u001b[0;34m,\u001b[0m \u001b[0;34m**\u001b[0m\u001b[0mall_kwargs\u001b[0m\u001b[0;34m)\u001b[0m\u001b[0;34m\u001b[0m\u001b[0;34m\u001b[0m\u001b[0m\n\u001b[0m\u001b[1;32m   2939\u001b[0m         \u001b[0;32mif\u001b[0m \u001b[0mtext_target\u001b[0m \u001b[0;32mis\u001b[0m \u001b[0;32mnot\u001b[0m \u001b[0;32mNone\u001b[0m\u001b[0;34m:\u001b[0m\u001b[0;34m\u001b[0m\u001b[0;34m\u001b[0m\u001b[0m\n\u001b[1;32m   2940\u001b[0m             \u001b[0mself\u001b[0m\u001b[0;34m.\u001b[0m\u001b[0m_switch_to_target_mode\u001b[0m\u001b[0;34m(\u001b[0m\u001b[0;34m)\u001b[0m\u001b[0;34m\u001b[0m\u001b[0;34m\u001b[0m\u001b[0m\n",
            "\u001b[0;32m/usr/local/lib/python3.12/dist-packages/transformers/tokenization_utils_base.py\u001b[0m in \u001b[0;36m_call_one\u001b[0;34m(self, text, text_pair, add_special_tokens, padding, truncation, max_length, stride, is_split_into_words, pad_to_multiple_of, padding_side, return_tensors, return_token_type_ids, return_attention_mask, return_overflowing_tokens, return_special_tokens_mask, return_offsets_mapping, return_length, verbose, split_special_tokens, **kwargs)\u001b[0m\n\u001b[1;32m   3024\u001b[0m                 )\n\u001b[1;32m   3025\u001b[0m             \u001b[0mbatch_text_or_text_pairs\u001b[0m \u001b[0;34m=\u001b[0m \u001b[0mlist\u001b[0m\u001b[0;34m(\u001b[0m\u001b[0mzip\u001b[0m\u001b[0;34m(\u001b[0m\u001b[0mtext\u001b[0m\u001b[0;34m,\u001b[0m \u001b[0mtext_pair\u001b[0m\u001b[0;34m)\u001b[0m\u001b[0;34m)\u001b[0m \u001b[0;32mif\u001b[0m \u001b[0mtext_pair\u001b[0m \u001b[0;32mis\u001b[0m \u001b[0;32mnot\u001b[0m \u001b[0;32mNone\u001b[0m \u001b[0;32melse\u001b[0m \u001b[0mtext\u001b[0m\u001b[0;34m\u001b[0m\u001b[0;34m\u001b[0m\u001b[0m\n\u001b[0;32m-> 3026\u001b[0;31m             return self.batch_encode_plus(\n\u001b[0m\u001b[1;32m   3027\u001b[0m                 \u001b[0mbatch_text_or_text_pairs\u001b[0m\u001b[0;34m=\u001b[0m\u001b[0mbatch_text_or_text_pairs\u001b[0m\u001b[0;34m,\u001b[0m\u001b[0;34m\u001b[0m\u001b[0;34m\u001b[0m\u001b[0m\n\u001b[1;32m   3028\u001b[0m                 \u001b[0madd_special_tokens\u001b[0m\u001b[0;34m=\u001b[0m\u001b[0madd_special_tokens\u001b[0m\u001b[0;34m,\u001b[0m\u001b[0;34m\u001b[0m\u001b[0;34m\u001b[0m\u001b[0m\n",
            "\u001b[0;32m/usr/local/lib/python3.12/dist-packages/transformers/tokenization_utils_base.py\u001b[0m in \u001b[0;36mbatch_encode_plus\u001b[0;34m(self, batch_text_or_text_pairs, add_special_tokens, padding, truncation, max_length, stride, is_split_into_words, pad_to_multiple_of, padding_side, return_tensors, return_token_type_ids, return_attention_mask, return_overflowing_tokens, return_special_tokens_mask, return_offsets_mapping, return_length, verbose, split_special_tokens, **kwargs)\u001b[0m\n\u001b[1;32m   3225\u001b[0m         )\n\u001b[1;32m   3226\u001b[0m \u001b[0;34m\u001b[0m\u001b[0m\n\u001b[0;32m-> 3227\u001b[0;31m         return self._batch_encode_plus(\n\u001b[0m\u001b[1;32m   3228\u001b[0m             \u001b[0mbatch_text_or_text_pairs\u001b[0m\u001b[0;34m=\u001b[0m\u001b[0mbatch_text_or_text_pairs\u001b[0m\u001b[0;34m,\u001b[0m\u001b[0;34m\u001b[0m\u001b[0;34m\u001b[0m\u001b[0m\n\u001b[1;32m   3229\u001b[0m             \u001b[0madd_special_tokens\u001b[0m\u001b[0;34m=\u001b[0m\u001b[0madd_special_tokens\u001b[0m\u001b[0;34m,\u001b[0m\u001b[0;34m\u001b[0m\u001b[0;34m\u001b[0m\u001b[0m\n",
            "\u001b[0;32m/usr/local/lib/python3.12/dist-packages/transformers/tokenization_utils_fast.py\u001b[0m in \u001b[0;36m_batch_encode_plus\u001b[0;34m(self, batch_text_or_text_pairs, add_special_tokens, padding_strategy, truncation_strategy, max_length, stride, is_split_into_words, pad_to_multiple_of, padding_side, return_tensors, return_token_type_ids, return_attention_mask, return_overflowing_tokens, return_special_tokens_mask, return_offsets_mapping, return_length, verbose, split_special_tokens)\u001b[0m\n\u001b[1;32m    551\u001b[0m             \u001b[0mself\u001b[0m\u001b[0;34m.\u001b[0m\u001b[0m_tokenizer\u001b[0m\u001b[0;34m.\u001b[0m\u001b[0mencode_special_tokens\u001b[0m \u001b[0;34m=\u001b[0m \u001b[0msplit_special_tokens\u001b[0m\u001b[0;34m\u001b[0m\u001b[0;34m\u001b[0m\u001b[0m\n\u001b[1;32m    552\u001b[0m \u001b[0;34m\u001b[0m\u001b[0m\n\u001b[0;32m--> 553\u001b[0;31m         encodings = self._tokenizer.encode_batch(\n\u001b[0m\u001b[1;32m    554\u001b[0m             \u001b[0mbatch_text_or_text_pairs\u001b[0m\u001b[0;34m,\u001b[0m\u001b[0;34m\u001b[0m\u001b[0;34m\u001b[0m\u001b[0m\n\u001b[1;32m    555\u001b[0m             \u001b[0madd_special_tokens\u001b[0m\u001b[0;34m=\u001b[0m\u001b[0madd_special_tokens\u001b[0m\u001b[0;34m,\u001b[0m\u001b[0;34m\u001b[0m\u001b[0;34m\u001b[0m\u001b[0m\n",
            "\u001b[0;31mKeyboardInterrupt\u001b[0m: "
          ]
        }
      ],
      "source": [
        "def tokenize_function(examples):\n",
        "\n",
        "    tokens = tokenizer(\n",
        "        examples['text_combined'],\n",
        "        max_length=CONFIG['max_length'],\n",
        "        padding='max_length',\n",
        "        truncation=True,\n",
        "        return_attention_mask=True\n",
        "    )\n",
        "    tokens['labels'] = examples['label']\n",
        "    return tokens\n",
        "\n",
        "tokenizer = AutoTokenizer.from_pretrained(CONFIG['model_name'])\n",
        "\n",
        "train_dataset = Dataset.from_pandas(train_df[['text_combined', 'label']])\n",
        "val_dataset = Dataset.from_pandas(val_df[['text_combined', 'label']])\n",
        "test_dataset = Dataset.from_pandas(test_df[['text_combined', 'label']])\n",
        "\n",
        "tokenized_train = train_dataset.map(tokenize_function, batched=True, remove_columns=['text_combined', 'label'])\n",
        "tokenized_val = val_dataset.map(tokenize_function, batched=True, remove_columns=['text_combined', 'label'])\n",
        "tokenized_test = test_dataset.map(tokenize_function, batched=True, remove_columns=['text_combined', 'label'])\n",
        "\n",
        "#Final Dataset:\n",
        "final_dataset = DatasetDict({'train': tokenized_train, 'validation': tokenized_val,'test': tokenized_test})\n",
        "\n",
        "print(final_dataset)"
      ]
    }
  ],
  "metadata": {
    "accelerator": "GPU",
    "colab": {
      "gpuType": "T4",
      "provenance": []
    },
    "kernelspec": {
      "display_name": "base",
      "language": "python",
      "name": "python3"
    },
    "language_info": {
      "codemirror_mode": {
        "name": "ipython",
        "version": 3
      },
      "file_extension": ".py",
      "mimetype": "text/x-python",
      "name": "python",
      "nbconvert_exporter": "python",
      "pygments_lexer": "ipython3",
      "version": "3.13.5"
    },
    "widgets": {
      "application/vnd.jupyter.widget-state+json": {
        "04d98d95dba24cfe9d160c21df47df04": {
          "model_module": "@jupyter-widgets/controls",
          "model_module_version": "1.5.0",
          "model_name": "HBoxModel",
          "state": {
            "_dom_classes": [],
            "_model_module": "@jupyter-widgets/controls",
            "_model_module_version": "1.5.0",
            "_model_name": "HBoxModel",
            "_view_count": null,
            "_view_module": "@jupyter-widgets/controls",
            "_view_module_version": "1.5.0",
            "_view_name": "HBoxView",
            "box_style": "",
            "children": [
              "IPY_MODEL_1ea537a4c4f545738e732a803976f9e3",
              "IPY_MODEL_1a262e83cf06487ea1ed93e5c63fd661",
              "IPY_MODEL_281b858b3da6461ebabe30b5fc1a9a1f"
            ],
            "layout": "IPY_MODEL_53c9e2e2bfa64a75bdd92656ce0d5599"
          }
        },
        "1a262e83cf06487ea1ed93e5c63fd661": {
          "model_module": "@jupyter-widgets/controls",
          "model_module_version": "1.5.0",
          "model_name": "FloatProgressModel",
          "state": {
            "_dom_classes": [],
            "_model_module": "@jupyter-widgets/controls",
            "_model_module_version": "1.5.0",
            "_model_name": "FloatProgressModel",
            "_view_count": null,
            "_view_module": "@jupyter-widgets/controls",
            "_view_module_version": "1.5.0",
            "_view_name": "ProgressView",
            "bar_style": "danger",
            "description": "",
            "description_tooltip": null,
            "layout": "IPY_MODEL_980768470a4646269b7b7a90aa7395be",
            "max": 60043,
            "min": 0,
            "orientation": "horizontal",
            "style": "IPY_MODEL_d33401ba3ff742ca9757120e81c50162",
            "value": 17000
          }
        },
        "1ea537a4c4f545738e732a803976f9e3": {
          "model_module": "@jupyter-widgets/controls",
          "model_module_version": "1.5.0",
          "model_name": "HTMLModel",
          "state": {
            "_dom_classes": [],
            "_model_module": "@jupyter-widgets/controls",
            "_model_module_version": "1.5.0",
            "_model_name": "HTMLModel",
            "_view_count": null,
            "_view_module": "@jupyter-widgets/controls",
            "_view_module_version": "1.5.0",
            "_view_name": "HTMLView",
            "description": "",
            "description_tooltip": null,
            "layout": "IPY_MODEL_f8a5e8f99cd5447587bbf9ce1fe38dd8",
            "placeholder": "​",
            "style": "IPY_MODEL_32d6e8b7780949b28cba0e1b214b8391",
            "value": "Map:  28%"
          }
        },
        "22ad439995234dea841b487534af89f6": {
          "model_module": "@jupyter-widgets/controls",
          "model_module_version": "1.5.0",
          "model_name": "DescriptionStyleModel",
          "state": {
            "_model_module": "@jupyter-widgets/controls",
            "_model_module_version": "1.5.0",
            "_model_name": "DescriptionStyleModel",
            "_view_count": null,
            "_view_module": "@jupyter-widgets/base",
            "_view_module_version": "1.2.0",
            "_view_name": "StyleView",
            "description_width": ""
          }
        },
        "281b858b3da6461ebabe30b5fc1a9a1f": {
          "model_module": "@jupyter-widgets/controls",
          "model_module_version": "1.5.0",
          "model_name": "HTMLModel",
          "state": {
            "_dom_classes": [],
            "_model_module": "@jupyter-widgets/controls",
            "_model_module_version": "1.5.0",
            "_model_name": "HTMLModel",
            "_view_count": null,
            "_view_module": "@jupyter-widgets/controls",
            "_view_module_version": "1.5.0",
            "_view_name": "HTMLView",
            "description": "",
            "description_tooltip": null,
            "layout": "IPY_MODEL_b3bb0168ec1d4bdb81a670f17a2245b8",
            "placeholder": "​",
            "style": "IPY_MODEL_22ad439995234dea841b487534af89f6",
            "value": " 17000/60043 [00:25&lt;00:54, 787.31 examples/s]"
          }
        },
        "32d6e8b7780949b28cba0e1b214b8391": {
          "model_module": "@jupyter-widgets/controls",
          "model_module_version": "1.5.0",
          "model_name": "DescriptionStyleModel",
          "state": {
            "_model_module": "@jupyter-widgets/controls",
            "_model_module_version": "1.5.0",
            "_model_name": "DescriptionStyleModel",
            "_view_count": null,
            "_view_module": "@jupyter-widgets/base",
            "_view_module_version": "1.2.0",
            "_view_name": "StyleView",
            "description_width": ""
          }
        },
        "53c9e2e2bfa64a75bdd92656ce0d5599": {
          "model_module": "@jupyter-widgets/base",
          "model_module_version": "1.2.0",
          "model_name": "LayoutModel",
          "state": {
            "_model_module": "@jupyter-widgets/base",
            "_model_module_version": "1.2.0",
            "_model_name": "LayoutModel",
            "_view_count": null,
            "_view_module": "@jupyter-widgets/base",
            "_view_module_version": "1.2.0",
            "_view_name": "LayoutView",
            "align_content": null,
            "align_items": null,
            "align_self": null,
            "border": null,
            "bottom": null,
            "display": null,
            "flex": null,
            "flex_flow": null,
            "grid_area": null,
            "grid_auto_columns": null,
            "grid_auto_flow": null,
            "grid_auto_rows": null,
            "grid_column": null,
            "grid_gap": null,
            "grid_row": null,
            "grid_template_areas": null,
            "grid_template_columns": null,
            "grid_template_rows": null,
            "height": null,
            "justify_content": null,
            "justify_items": null,
            "left": null,
            "margin": null,
            "max_height": null,
            "max_width": null,
            "min_height": null,
            "min_width": null,
            "object_fit": null,
            "object_position": null,
            "order": null,
            "overflow": null,
            "overflow_x": null,
            "overflow_y": null,
            "padding": null,
            "right": null,
            "top": null,
            "visibility": null,
            "width": null
          }
        },
        "980768470a4646269b7b7a90aa7395be": {
          "model_module": "@jupyter-widgets/base",
          "model_module_version": "1.2.0",
          "model_name": "LayoutModel",
          "state": {
            "_model_module": "@jupyter-widgets/base",
            "_model_module_version": "1.2.0",
            "_model_name": "LayoutModel",
            "_view_count": null,
            "_view_module": "@jupyter-widgets/base",
            "_view_module_version": "1.2.0",
            "_view_name": "LayoutView",
            "align_content": null,
            "align_items": null,
            "align_self": null,
            "border": null,
            "bottom": null,
            "display": null,
            "flex": null,
            "flex_flow": null,
            "grid_area": null,
            "grid_auto_columns": null,
            "grid_auto_flow": null,
            "grid_auto_rows": null,
            "grid_column": null,
            "grid_gap": null,
            "grid_row": null,
            "grid_template_areas": null,
            "grid_template_columns": null,
            "grid_template_rows": null,
            "height": null,
            "justify_content": null,
            "justify_items": null,
            "left": null,
            "margin": null,
            "max_height": null,
            "max_width": null,
            "min_height": null,
            "min_width": null,
            "object_fit": null,
            "object_position": null,
            "order": null,
            "overflow": null,
            "overflow_x": null,
            "overflow_y": null,
            "padding": null,
            "right": null,
            "top": null,
            "visibility": null,
            "width": null
          }
        },
        "b3bb0168ec1d4bdb81a670f17a2245b8": {
          "model_module": "@jupyter-widgets/base",
          "model_module_version": "1.2.0",
          "model_name": "LayoutModel",
          "state": {
            "_model_module": "@jupyter-widgets/base",
            "_model_module_version": "1.2.0",
            "_model_name": "LayoutModel",
            "_view_count": null,
            "_view_module": "@jupyter-widgets/base",
            "_view_module_version": "1.2.0",
            "_view_name": "LayoutView",
            "align_content": null,
            "align_items": null,
            "align_self": null,
            "border": null,
            "bottom": null,
            "display": null,
            "flex": null,
            "flex_flow": null,
            "grid_area": null,
            "grid_auto_columns": null,
            "grid_auto_flow": null,
            "grid_auto_rows": null,
            "grid_column": null,
            "grid_gap": null,
            "grid_row": null,
            "grid_template_areas": null,
            "grid_template_columns": null,
            "grid_template_rows": null,
            "height": null,
            "justify_content": null,
            "justify_items": null,
            "left": null,
            "margin": null,
            "max_height": null,
            "max_width": null,
            "min_height": null,
            "min_width": null,
            "object_fit": null,
            "object_position": null,
            "order": null,
            "overflow": null,
            "overflow_x": null,
            "overflow_y": null,
            "padding": null,
            "right": null,
            "top": null,
            "visibility": null,
            "width": null
          }
        },
        "d33401ba3ff742ca9757120e81c50162": {
          "model_module": "@jupyter-widgets/controls",
          "model_module_version": "1.5.0",
          "model_name": "ProgressStyleModel",
          "state": {
            "_model_module": "@jupyter-widgets/controls",
            "_model_module_version": "1.5.0",
            "_model_name": "ProgressStyleModel",
            "_view_count": null,
            "_view_module": "@jupyter-widgets/base",
            "_view_module_version": "1.2.0",
            "_view_name": "StyleView",
            "bar_color": null,
            "description_width": ""
          }
        },
        "f8a5e8f99cd5447587bbf9ce1fe38dd8": {
          "model_module": "@jupyter-widgets/base",
          "model_module_version": "1.2.0",
          "model_name": "LayoutModel",
          "state": {
            "_model_module": "@jupyter-widgets/base",
            "_model_module_version": "1.2.0",
            "_model_name": "LayoutModel",
            "_view_count": null,
            "_view_module": "@jupyter-widgets/base",
            "_view_module_version": "1.2.0",
            "_view_name": "LayoutView",
            "align_content": null,
            "align_items": null,
            "align_self": null,
            "border": null,
            "bottom": null,
            "display": null,
            "flex": null,
            "flex_flow": null,
            "grid_area": null,
            "grid_auto_columns": null,
            "grid_auto_flow": null,
            "grid_auto_rows": null,
            "grid_column": null,
            "grid_gap": null,
            "grid_row": null,
            "grid_template_areas": null,
            "grid_template_columns": null,
            "grid_template_rows": null,
            "height": null,
            "justify_content": null,
            "justify_items": null,
            "left": null,
            "margin": null,
            "max_height": null,
            "max_width": null,
            "min_height": null,
            "min_width": null,
            "object_fit": null,
            "object_position": null,
            "order": null,
            "overflow": null,
            "overflow_x": null,
            "overflow_y": null,
            "padding": null,
            "right": null,
            "top": null,
            "visibility": null,
            "width": null
          }
        }
      }
    }
  },
  "nbformat": 4,
  "nbformat_minor": 0
=======
 "cells": [
  {
   "cell_type": "markdown",
   "metadata": {
    "id": "kcmPpXdM6Ect"
   },
   "source": [
    "**Libraries**\n"
   ]
  },
  {
   "cell_type": "code",
   "execution_count": 1,
   "metadata": {
    "id": "3i-oOY_Q0sHw"
   },
   "outputs": [
    {
     "ename": "ValueError",
     "evalue": "numpy.dtype size changed, may indicate binary incompatibility. Expected 96 from C header, got 88 from PyObject",
     "output_type": "error",
     "traceback": [
      "\u001b[0;31m---------------------------------------------------------------------------\u001b[0m",
      "\u001b[0;31mValueError\u001b[0m                                Traceback (most recent call last)",
      "Cell \u001b[0;32mIn[1], line 3\u001b[0m\n\u001b[1;32m      1\u001b[0m \u001b[38;5;66;03m#Libraries\u001b[39;00m\n\u001b[1;32m      2\u001b[0m \u001b[38;5;28;01mimport\u001b[39;00m \u001b[38;5;21;01mnumpy\u001b[39;00m \u001b[38;5;28;01mas\u001b[39;00m \u001b[38;5;21;01mnp\u001b[39;00m\n\u001b[0;32m----> 3\u001b[0m \u001b[38;5;28;01mimport\u001b[39;00m \u001b[38;5;21;01mpandas\u001b[39;00m \u001b[38;5;28;01mas\u001b[39;00m \u001b[38;5;21;01mpd\u001b[39;00m\n\u001b[1;32m      4\u001b[0m \u001b[38;5;28;01mimport\u001b[39;00m \u001b[38;5;21;01mre\u001b[39;00m\n\u001b[1;32m      6\u001b[0m \u001b[38;5;66;03m# Visualization tools\u001b[39;00m\n",
      "File \u001b[0;32m~/anaconda3/lib/python3.11/site-packages/pandas/__init__.py:22\u001b[0m\n\u001b[1;32m     19\u001b[0m \u001b[38;5;28;01mdel\u001b[39;00m _hard_dependencies, _dependency, _missing_dependencies\n\u001b[1;32m     21\u001b[0m \u001b[38;5;66;03m# numpy compat\u001b[39;00m\n\u001b[0;32m---> 22\u001b[0m \u001b[38;5;28;01mfrom\u001b[39;00m \u001b[38;5;21;01mpandas\u001b[39;00m\u001b[38;5;21;01m.\u001b[39;00m\u001b[38;5;21;01mcompat\u001b[39;00m \u001b[38;5;28;01mimport\u001b[39;00m is_numpy_dev \u001b[38;5;28;01mas\u001b[39;00m _is_numpy_dev  \u001b[38;5;66;03m# pyright: ignore # noqa:F401\u001b[39;00m\n\u001b[1;32m     24\u001b[0m \u001b[38;5;28;01mtry\u001b[39;00m:\n\u001b[1;32m     25\u001b[0m     \u001b[38;5;28;01mfrom\u001b[39;00m \u001b[38;5;21;01mpandas\u001b[39;00m\u001b[38;5;21;01m.\u001b[39;00m\u001b[38;5;21;01m_libs\u001b[39;00m \u001b[38;5;28;01mimport\u001b[39;00m hashtable \u001b[38;5;28;01mas\u001b[39;00m _hashtable, lib \u001b[38;5;28;01mas\u001b[39;00m _lib, tslib \u001b[38;5;28;01mas\u001b[39;00m _tslib\n",
      "File \u001b[0;32m~/anaconda3/lib/python3.11/site-packages/pandas/compat/__init__.py:25\u001b[0m\n\u001b[1;32m     17\u001b[0m \u001b[38;5;28;01mfrom\u001b[39;00m \u001b[38;5;21;01mpandas\u001b[39;00m\u001b[38;5;21;01m.\u001b[39;00m\u001b[38;5;21;01mcompat\u001b[39;00m\u001b[38;5;21;01m.\u001b[39;00m\u001b[38;5;21;01m_constants\u001b[39;00m \u001b[38;5;28;01mimport\u001b[39;00m (\n\u001b[1;32m     18\u001b[0m     IS64,\n\u001b[1;32m     19\u001b[0m     PY39,\n\u001b[0;32m   (...)\u001b[0m\n\u001b[1;32m     22\u001b[0m     PYPY,\n\u001b[1;32m     23\u001b[0m )\n\u001b[1;32m     24\u001b[0m \u001b[38;5;28;01mimport\u001b[39;00m \u001b[38;5;21;01mpandas\u001b[39;00m\u001b[38;5;21;01m.\u001b[39;00m\u001b[38;5;21;01mcompat\u001b[39;00m\u001b[38;5;21;01m.\u001b[39;00m\u001b[38;5;21;01mcompressors\u001b[39;00m\n\u001b[0;32m---> 25\u001b[0m \u001b[38;5;28;01mfrom\u001b[39;00m \u001b[38;5;21;01mpandas\u001b[39;00m\u001b[38;5;21;01m.\u001b[39;00m\u001b[38;5;21;01mcompat\u001b[39;00m\u001b[38;5;21;01m.\u001b[39;00m\u001b[38;5;21;01mnumpy\u001b[39;00m \u001b[38;5;28;01mimport\u001b[39;00m (\n\u001b[1;32m     26\u001b[0m     is_numpy_dev,\n\u001b[1;32m     27\u001b[0m     np_version_under1p21,\n\u001b[1;32m     28\u001b[0m )\n\u001b[1;32m     29\u001b[0m \u001b[38;5;28;01mfrom\u001b[39;00m \u001b[38;5;21;01mpandas\u001b[39;00m\u001b[38;5;21;01m.\u001b[39;00m\u001b[38;5;21;01mcompat\u001b[39;00m\u001b[38;5;21;01m.\u001b[39;00m\u001b[38;5;21;01mpyarrow\u001b[39;00m \u001b[38;5;28;01mimport\u001b[39;00m (\n\u001b[1;32m     30\u001b[0m     pa_version_under7p0,\n\u001b[1;32m     31\u001b[0m     pa_version_under8p0,\n\u001b[1;32m     32\u001b[0m     pa_version_under9p0,\n\u001b[1;32m     33\u001b[0m     pa_version_under11p0,\n\u001b[1;32m     34\u001b[0m )\n\u001b[1;32m     37\u001b[0m \u001b[38;5;28;01mdef\u001b[39;00m \u001b[38;5;21mset_function_name\u001b[39m(f: F, name: \u001b[38;5;28mstr\u001b[39m, \u001b[38;5;28mcls\u001b[39m) \u001b[38;5;241m-\u001b[39m\u001b[38;5;241m>\u001b[39m F:\n",
      "File \u001b[0;32m~/anaconda3/lib/python3.11/site-packages/pandas/compat/numpy/__init__.py:4\u001b[0m\n\u001b[1;32m      1\u001b[0m \u001b[38;5;124;03m\"\"\" support numpy compatibility across versions \"\"\"\u001b[39;00m\n\u001b[1;32m      2\u001b[0m \u001b[38;5;28;01mimport\u001b[39;00m \u001b[38;5;21;01mnumpy\u001b[39;00m \u001b[38;5;28;01mas\u001b[39;00m \u001b[38;5;21;01mnp\u001b[39;00m\n\u001b[0;32m----> 4\u001b[0m \u001b[38;5;28;01mfrom\u001b[39;00m \u001b[38;5;21;01mpandas\u001b[39;00m\u001b[38;5;21;01m.\u001b[39;00m\u001b[38;5;21;01mutil\u001b[39;00m\u001b[38;5;21;01m.\u001b[39;00m\u001b[38;5;21;01mversion\u001b[39;00m \u001b[38;5;28;01mimport\u001b[39;00m Version\n\u001b[1;32m      6\u001b[0m \u001b[38;5;66;03m# numpy versioning\u001b[39;00m\n\u001b[1;32m      7\u001b[0m _np_version \u001b[38;5;241m=\u001b[39m np\u001b[38;5;241m.\u001b[39m__version__\n",
      "File \u001b[0;32m~/anaconda3/lib/python3.11/site-packages/pandas/util/__init__.py:2\u001b[0m\n\u001b[1;32m      1\u001b[0m \u001b[38;5;66;03m# pyright: reportUnusedImport = false\u001b[39;00m\n\u001b[0;32m----> 2\u001b[0m \u001b[38;5;28;01mfrom\u001b[39;00m \u001b[38;5;21;01mpandas\u001b[39;00m\u001b[38;5;21;01m.\u001b[39;00m\u001b[38;5;21;01mutil\u001b[39;00m\u001b[38;5;21;01m.\u001b[39;00m\u001b[38;5;21;01m_decorators\u001b[39;00m \u001b[38;5;28;01mimport\u001b[39;00m (  \u001b[38;5;66;03m# noqa:F401\u001b[39;00m\n\u001b[1;32m      3\u001b[0m     Appender,\n\u001b[1;32m      4\u001b[0m     Substitution,\n\u001b[1;32m      5\u001b[0m     cache_readonly,\n\u001b[1;32m      6\u001b[0m )\n\u001b[1;32m      8\u001b[0m \u001b[38;5;28;01mfrom\u001b[39;00m \u001b[38;5;21;01mpandas\u001b[39;00m\u001b[38;5;21;01m.\u001b[39;00m\u001b[38;5;21;01mcore\u001b[39;00m\u001b[38;5;21;01m.\u001b[39;00m\u001b[38;5;21;01mutil\u001b[39;00m\u001b[38;5;21;01m.\u001b[39;00m\u001b[38;5;21;01mhashing\u001b[39;00m \u001b[38;5;28;01mimport\u001b[39;00m (  \u001b[38;5;66;03m# noqa:F401\u001b[39;00m\n\u001b[1;32m      9\u001b[0m     hash_array,\n\u001b[1;32m     10\u001b[0m     hash_pandas_object,\n\u001b[1;32m     11\u001b[0m )\n",
      "File \u001b[0;32m~/anaconda3/lib/python3.11/site-packages/pandas/util/_decorators.py:14\u001b[0m\n\u001b[1;32m      6\u001b[0m \u001b[38;5;28;01mfrom\u001b[39;00m \u001b[38;5;21;01mtyping\u001b[39;00m \u001b[38;5;28;01mimport\u001b[39;00m (\n\u001b[1;32m      7\u001b[0m     Any,\n\u001b[1;32m      8\u001b[0m     Callable,\n\u001b[1;32m      9\u001b[0m     Mapping,\n\u001b[1;32m     10\u001b[0m     cast,\n\u001b[1;32m     11\u001b[0m )\n\u001b[1;32m     12\u001b[0m \u001b[38;5;28;01mimport\u001b[39;00m \u001b[38;5;21;01mwarnings\u001b[39;00m\n\u001b[0;32m---> 14\u001b[0m \u001b[38;5;28;01mfrom\u001b[39;00m \u001b[38;5;21;01mpandas\u001b[39;00m\u001b[38;5;21;01m.\u001b[39;00m\u001b[38;5;21;01m_libs\u001b[39;00m\u001b[38;5;21;01m.\u001b[39;00m\u001b[38;5;21;01mproperties\u001b[39;00m \u001b[38;5;28;01mimport\u001b[39;00m cache_readonly\n\u001b[1;32m     15\u001b[0m \u001b[38;5;28;01mfrom\u001b[39;00m \u001b[38;5;21;01mpandas\u001b[39;00m\u001b[38;5;21;01m.\u001b[39;00m\u001b[38;5;21;01m_typing\u001b[39;00m \u001b[38;5;28;01mimport\u001b[39;00m (\n\u001b[1;32m     16\u001b[0m     F,\n\u001b[1;32m     17\u001b[0m     T,\n\u001b[1;32m     18\u001b[0m )\n\u001b[1;32m     19\u001b[0m \u001b[38;5;28;01mfrom\u001b[39;00m \u001b[38;5;21;01mpandas\u001b[39;00m\u001b[38;5;21;01m.\u001b[39;00m\u001b[38;5;21;01mutil\u001b[39;00m\u001b[38;5;21;01m.\u001b[39;00m\u001b[38;5;21;01m_exceptions\u001b[39;00m \u001b[38;5;28;01mimport\u001b[39;00m find_stack_level\n",
      "File \u001b[0;32m~/anaconda3/lib/python3.11/site-packages/pandas/_libs/__init__.py:13\u001b[0m\n\u001b[1;32m      1\u001b[0m __all__ \u001b[38;5;241m=\u001b[39m [\n\u001b[1;32m      2\u001b[0m     \u001b[38;5;124m\"\u001b[39m\u001b[38;5;124mNaT\u001b[39m\u001b[38;5;124m\"\u001b[39m,\n\u001b[1;32m      3\u001b[0m     \u001b[38;5;124m\"\u001b[39m\u001b[38;5;124mNaTType\u001b[39m\u001b[38;5;124m\"\u001b[39m,\n\u001b[0;32m   (...)\u001b[0m\n\u001b[1;32m      9\u001b[0m     \u001b[38;5;124m\"\u001b[39m\u001b[38;5;124mInterval\u001b[39m\u001b[38;5;124m\"\u001b[39m,\n\u001b[1;32m     10\u001b[0m ]\n\u001b[0;32m---> 13\u001b[0m \u001b[38;5;28;01mfrom\u001b[39;00m \u001b[38;5;21;01mpandas\u001b[39;00m\u001b[38;5;21;01m.\u001b[39;00m\u001b[38;5;21;01m_libs\u001b[39;00m\u001b[38;5;21;01m.\u001b[39;00m\u001b[38;5;21;01minterval\u001b[39;00m \u001b[38;5;28;01mimport\u001b[39;00m Interval\n\u001b[1;32m     14\u001b[0m \u001b[38;5;28;01mfrom\u001b[39;00m \u001b[38;5;21;01mpandas\u001b[39;00m\u001b[38;5;21;01m.\u001b[39;00m\u001b[38;5;21;01m_libs\u001b[39;00m\u001b[38;5;21;01m.\u001b[39;00m\u001b[38;5;21;01mtslibs\u001b[39;00m \u001b[38;5;28;01mimport\u001b[39;00m (\n\u001b[1;32m     15\u001b[0m     NaT,\n\u001b[1;32m     16\u001b[0m     NaTType,\n\u001b[0;32m   (...)\u001b[0m\n\u001b[1;32m     21\u001b[0m     iNaT,\n\u001b[1;32m     22\u001b[0m )\n",
      "File \u001b[0;32m~/anaconda3/lib/python3.11/site-packages/pandas/_libs/interval.pyx:1\u001b[0m, in \u001b[0;36minit pandas._libs.interval\u001b[0;34m()\u001b[0m\n",
      "\u001b[0;31mValueError\u001b[0m: numpy.dtype size changed, may indicate binary incompatibility. Expected 96 from C header, got 88 from PyObject"
     ]
    }
   ],
   "source": [
    "#Libraries\n",
    "import numpy as np\n",
    "import pandas as pd\n",
    "import re\n",
    "\n",
    "# Visualization tools\n",
    "import matplotlib.pyplot as plt\n",
    "import seaborn as sns\n",
    "\n",
    "# Word Cloud library\n",
    "from wordcloud import WordCloud, STOPWORDS\n",
    "\n",
    "# Library used for data preprocessing\n",
    "from datasets import load_dataset, DatasetDict, Dataset, ClassLabel\n",
    "from transformers import AutoTokenizer\n",
    "\n",
    "# Model selection libraries\n",
    "from sklearn.model_selection import train_test_split\n",
    "\n",
    "# Library used for ignore warnings\n",
    "import warnings\n",
    "warnings.filterwarnings('ignore')\n",
    "%matplotlib inline"
   ]
  },
  {
   "cell_type": "markdown",
   "metadata": {
    "id": "CCPHkTYZ6J3-"
   },
   "source": [
    "**Dataset Loading**"
   ]
  },
  {
   "cell_type": "code",
   "execution_count": null,
   "metadata": {
    "id": "2AHFhJXqzyTb"
   },
   "outputs": [],
   "source": [
    "dataset = load_dataset(\"bourigue/data_email_spam\")\n",
    "print(dataset)"
   ]
  },
  {
   "cell_type": "code",
   "execution_count": null,
   "metadata": {
    "colab": {
     "base_uri": "https://localhost:8080/",
     "height": 206
    },
    "id": "1dxC6xYO0ntB",
    "outputId": "d8e0d7e3-310b-4410-d2c3-d05358ab0f2d"
   },
   "outputs": [],
   "source": [
    "df = dataset['train'].to_pandas()\n",
    "df.head()"
   ]
  },
  {
   "cell_type": "code",
   "execution_count": null,
   "metadata": {
    "colab": {
     "base_uri": "https://localhost:8080/"
    },
    "id": "-x2bo4R482JZ",
    "outputId": "37d4e516-a890-4a54-a918-d2a1fab9670c"
   },
   "outputs": [],
   "source": [
    "print(f\"Dataset loaded: {len(df)} samples\")\n",
    "print(f\"Class distribution:\\n{df['label'].value_counts()}\\n\")"
   ]
  },
  {
   "cell_type": "markdown",
   "metadata": {
    "id": "TlhS3Cvw6o2e"
   },
   "source": [
    "**Dataset Visualization**"
   ]
  },
  {
   "cell_type": "code",
   "execution_count": 2,
   "metadata": {
    "colab": {
     "base_uri": "https://localhost:8080/",
     "height": 444
    },
    "id": "TXKTyPp72Fga",
    "outputId": "abcb1e66-2a50-4557-e34b-abbd9aeb859c"
   },
   "outputs": [
    {
     "name": "stderr",
     "output_type": "stream",
     "text": [
      "\n",
      "A module that was compiled using NumPy 1.x cannot be run in\n",
      "NumPy 2.2.4 as it may crash. To support both 1.x and 2.x\n",
      "versions of NumPy, modules must be compiled with NumPy 2.0.\n",
      "Some module may need to rebuild instead e.g. with 'pybind11>=2.12'.\n",
      "\n",
      "If you are a user of the module, the easiest solution will be to\n",
      "downgrade to 'numpy<2' or try to upgrade the affected module.\n",
      "We expect that some modules will need time to support NumPy 2.\n",
      "\n",
      "Traceback (most recent call last):  File \"<frozen runpy>\", line 198, in _run_module_as_main\n",
      "  File \"<frozen runpy>\", line 88, in _run_code\n",
      "  File \"/Users/saumya/anaconda3/lib/python3.11/site-packages/ipykernel_launcher.py\", line 17, in <module>\n",
      "    app.launch_new_instance()\n",
      "  File \"/Users/saumya/anaconda3/lib/python3.11/site-packages/traitlets/config/application.py\", line 992, in launch_instance\n",
      "    app.start()\n",
      "  File \"/Users/saumya/anaconda3/lib/python3.11/site-packages/ipykernel/kernelapp.py\", line 736, in start\n",
      "    self.io_loop.start()\n",
      "  File \"/Users/saumya/anaconda3/lib/python3.11/site-packages/tornado/platform/asyncio.py\", line 195, in start\n",
      "    self.asyncio_loop.run_forever()\n",
      "  File \"/Users/saumya/anaconda3/lib/python3.11/asyncio/base_events.py\", line 607, in run_forever\n",
      "    self._run_once()\n",
      "  File \"/Users/saumya/anaconda3/lib/python3.11/asyncio/base_events.py\", line 1922, in _run_once\n",
      "    handle._run()\n",
      "  File \"/Users/saumya/anaconda3/lib/python3.11/asyncio/events.py\", line 80, in _run\n",
      "    self._context.run(self._callback, *self._args)\n",
      "  File \"/Users/saumya/anaconda3/lib/python3.11/site-packages/ipykernel/kernelbase.py\", line 516, in dispatch_queue\n",
      "    await self.process_one()\n",
      "  File \"/Users/saumya/anaconda3/lib/python3.11/site-packages/ipykernel/kernelbase.py\", line 505, in process_one\n",
      "    await dispatch(*args)\n",
      "  File \"/Users/saumya/anaconda3/lib/python3.11/site-packages/ipykernel/kernelbase.py\", line 412, in dispatch_shell\n",
      "    await result\n",
      "  File \"/Users/saumya/anaconda3/lib/python3.11/site-packages/ipykernel/kernelbase.py\", line 740, in execute_request\n",
      "    reply_content = await reply_content\n",
      "  File \"/Users/saumya/anaconda3/lib/python3.11/site-packages/ipykernel/ipkernel.py\", line 422, in do_execute\n",
      "    res = shell.run_cell(\n",
      "  File \"/Users/saumya/anaconda3/lib/python3.11/site-packages/ipykernel/zmqshell.py\", line 546, in run_cell\n",
      "    return super().run_cell(*args, **kwargs)\n",
      "  File \"/Users/saumya/anaconda3/lib/python3.11/site-packages/IPython/core/interactiveshell.py\", line 3024, in run_cell\n",
      "    result = self._run_cell(\n",
      "  File \"/Users/saumya/anaconda3/lib/python3.11/site-packages/IPython/core/interactiveshell.py\", line 3079, in _run_cell\n",
      "    result = runner(coro)\n",
      "  File \"/Users/saumya/anaconda3/lib/python3.11/site-packages/IPython/core/async_helpers.py\", line 129, in _pseudo_sync_runner\n",
      "    coro.send(None)\n",
      "  File \"/Users/saumya/anaconda3/lib/python3.11/site-packages/IPython/core/interactiveshell.py\", line 3284, in run_cell_async\n",
      "    has_raised = await self.run_ast_nodes(code_ast.body, cell_name,\n",
      "  File \"/Users/saumya/anaconda3/lib/python3.11/site-packages/IPython/core/interactiveshell.py\", line 3466, in run_ast_nodes\n",
      "    if await self.run_code(code, result, async_=asy):\n",
      "  File \"/Users/saumya/anaconda3/lib/python3.11/site-packages/IPython/core/interactiveshell.py\", line 3526, in run_code\n",
      "    exec(code_obj, self.user_global_ns, self.user_ns)\n",
      "  File \"/var/folders/q2/xcd4_hnj5h78r_wszglfmg7c0000gn/T/ipykernel_77396/2325376696.py\", line 1, in <module>\n",
      "    import matplotlib.pyplot as plt\n",
      "  File \"/Users/saumya/anaconda3/lib/python3.11/site-packages/matplotlib/__init__.py\", line 129, in <module>\n",
      "    from . import _api, _version, cbook, _docstring, rcsetup\n",
      "  File \"/Users/saumya/anaconda3/lib/python3.11/site-packages/matplotlib/rcsetup.py\", line 27, in <module>\n",
      "    from matplotlib.colors import Colormap, is_color_like\n",
      "  File \"/Users/saumya/anaconda3/lib/python3.11/site-packages/matplotlib/colors.py\", line 56, in <module>\n",
      "    from matplotlib import _api, _cm, cbook, scale\n",
      "  File \"/Users/saumya/anaconda3/lib/python3.11/site-packages/matplotlib/scale.py\", line 22, in <module>\n",
      "    from matplotlib.ticker import (\n",
      "  File \"/Users/saumya/anaconda3/lib/python3.11/site-packages/matplotlib/ticker.py\", line 138, in <module>\n",
      "    from matplotlib import transforms as mtransforms\n",
      "  File \"/Users/saumya/anaconda3/lib/python3.11/site-packages/matplotlib/transforms.py\", line 49, in <module>\n",
      "    from matplotlib._path import (\n"
     ]
    },
    {
     "ename": "AttributeError",
     "evalue": "_ARRAY_API not found",
     "output_type": "error",
     "traceback": [
      "\u001b[0;31m---------------------------------------------------------------------------\u001b[0m",
      "\u001b[0;31mAttributeError\u001b[0m                            Traceback (most recent call last)",
      "\u001b[0;31mAttributeError\u001b[0m: _ARRAY_API not found"
     ]
    },
    {
     "ename": "ImportError",
     "evalue": "numpy.core.multiarray failed to import",
     "output_type": "error",
     "traceback": [
      "\u001b[0;31m---------------------------------------------------------------------------\u001b[0m",
      "\u001b[0;31mImportError\u001b[0m                               Traceback (most recent call last)",
      "Cell \u001b[0;32mIn[2], line 1\u001b[0m\n\u001b[0;32m----> 1\u001b[0m \u001b[38;5;28;01mimport\u001b[39;00m \u001b[38;5;21;01mmatplotlib\u001b[39;00m\u001b[38;5;21;01m.\u001b[39;00m\u001b[38;5;21;01mpyplot\u001b[39;00m \u001b[38;5;28;01mas\u001b[39;00m \u001b[38;5;21;01mplt\u001b[39;00m\n\u001b[1;32m      3\u001b[0m \u001b[38;5;66;03m# Label distribution\u001b[39;00m\n\u001b[1;32m      4\u001b[0m spread \u001b[38;5;241m=\u001b[39m df[\u001b[38;5;124m'\u001b[39m\u001b[38;5;124mlabel\u001b[39m\u001b[38;5;124m'\u001b[39m]\u001b[38;5;241m.\u001b[39mvalue_counts()\n",
      "File \u001b[0;32m~/anaconda3/lib/python3.11/site-packages/matplotlib/__init__.py:129\u001b[0m\n\u001b[1;32m    125\u001b[0m \u001b[38;5;28;01mfrom\u001b[39;00m \u001b[38;5;21;01mpackaging\u001b[39;00m\u001b[38;5;21;01m.\u001b[39;00m\u001b[38;5;21;01mversion\u001b[39;00m \u001b[38;5;28;01mimport\u001b[39;00m parse \u001b[38;5;28;01mas\u001b[39;00m parse_version\n\u001b[1;32m    127\u001b[0m \u001b[38;5;66;03m# cbook must import matplotlib only within function\u001b[39;00m\n\u001b[1;32m    128\u001b[0m \u001b[38;5;66;03m# definitions, so it is safe to import from it here.\u001b[39;00m\n\u001b[0;32m--> 129\u001b[0m \u001b[38;5;28;01mfrom\u001b[39;00m \u001b[38;5;21;01m.\u001b[39;00m \u001b[38;5;28;01mimport\u001b[39;00m _api, _version, cbook, _docstring, rcsetup\n\u001b[1;32m    130\u001b[0m \u001b[38;5;28;01mfrom\u001b[39;00m \u001b[38;5;21;01mmatplotlib\u001b[39;00m\u001b[38;5;21;01m.\u001b[39;00m\u001b[38;5;21;01mcbook\u001b[39;00m \u001b[38;5;28;01mimport\u001b[39;00m sanitize_sequence\n\u001b[1;32m    131\u001b[0m \u001b[38;5;28;01mfrom\u001b[39;00m \u001b[38;5;21;01mmatplotlib\u001b[39;00m\u001b[38;5;21;01m.\u001b[39;00m\u001b[38;5;21;01m_api\u001b[39;00m \u001b[38;5;28;01mimport\u001b[39;00m MatplotlibDeprecationWarning\n",
      "File \u001b[0;32m~/anaconda3/lib/python3.11/site-packages/matplotlib/rcsetup.py:27\u001b[0m\n\u001b[1;32m     25\u001b[0m \u001b[38;5;28;01mfrom\u001b[39;00m \u001b[38;5;21;01mmatplotlib\u001b[39;00m \u001b[38;5;28;01mimport\u001b[39;00m _api, cbook\n\u001b[1;32m     26\u001b[0m \u001b[38;5;28;01mfrom\u001b[39;00m \u001b[38;5;21;01mmatplotlib\u001b[39;00m\u001b[38;5;21;01m.\u001b[39;00m\u001b[38;5;21;01mcbook\u001b[39;00m \u001b[38;5;28;01mimport\u001b[39;00m ls_mapper\n\u001b[0;32m---> 27\u001b[0m \u001b[38;5;28;01mfrom\u001b[39;00m \u001b[38;5;21;01mmatplotlib\u001b[39;00m\u001b[38;5;21;01m.\u001b[39;00m\u001b[38;5;21;01mcolors\u001b[39;00m \u001b[38;5;28;01mimport\u001b[39;00m Colormap, is_color_like\n\u001b[1;32m     28\u001b[0m \u001b[38;5;28;01mfrom\u001b[39;00m \u001b[38;5;21;01mmatplotlib\u001b[39;00m\u001b[38;5;21;01m.\u001b[39;00m\u001b[38;5;21;01m_fontconfig_pattern\u001b[39;00m \u001b[38;5;28;01mimport\u001b[39;00m parse_fontconfig_pattern\n\u001b[1;32m     29\u001b[0m \u001b[38;5;28;01mfrom\u001b[39;00m \u001b[38;5;21;01mmatplotlib\u001b[39;00m\u001b[38;5;21;01m.\u001b[39;00m\u001b[38;5;21;01m_enums\u001b[39;00m \u001b[38;5;28;01mimport\u001b[39;00m JoinStyle, CapStyle\n",
      "File \u001b[0;32m~/anaconda3/lib/python3.11/site-packages/matplotlib/colors.py:56\u001b[0m\n\u001b[1;32m     54\u001b[0m \u001b[38;5;28;01mimport\u001b[39;00m \u001b[38;5;21;01mmatplotlib\u001b[39;00m \u001b[38;5;28;01mas\u001b[39;00m \u001b[38;5;21;01mmpl\u001b[39;00m\n\u001b[1;32m     55\u001b[0m \u001b[38;5;28;01mimport\u001b[39;00m \u001b[38;5;21;01mnumpy\u001b[39;00m \u001b[38;5;28;01mas\u001b[39;00m \u001b[38;5;21;01mnp\u001b[39;00m\n\u001b[0;32m---> 56\u001b[0m \u001b[38;5;28;01mfrom\u001b[39;00m \u001b[38;5;21;01mmatplotlib\u001b[39;00m \u001b[38;5;28;01mimport\u001b[39;00m _api, _cm, cbook, scale\n\u001b[1;32m     57\u001b[0m \u001b[38;5;28;01mfrom\u001b[39;00m \u001b[38;5;21;01m.\u001b[39;00m\u001b[38;5;21;01m_color_data\u001b[39;00m \u001b[38;5;28;01mimport\u001b[39;00m BASE_COLORS, TABLEAU_COLORS, CSS4_COLORS, XKCD_COLORS\n\u001b[1;32m     60\u001b[0m \u001b[38;5;28;01mclass\u001b[39;00m \u001b[38;5;21;01m_ColorMapping\u001b[39;00m(\u001b[38;5;28mdict\u001b[39m):\n",
      "File \u001b[0;32m~/anaconda3/lib/python3.11/site-packages/matplotlib/scale.py:22\u001b[0m\n\u001b[1;32m     20\u001b[0m \u001b[38;5;28;01mimport\u001b[39;00m \u001b[38;5;21;01mmatplotlib\u001b[39;00m \u001b[38;5;28;01mas\u001b[39;00m \u001b[38;5;21;01mmpl\u001b[39;00m\n\u001b[1;32m     21\u001b[0m \u001b[38;5;28;01mfrom\u001b[39;00m \u001b[38;5;21;01mmatplotlib\u001b[39;00m \u001b[38;5;28;01mimport\u001b[39;00m _api, _docstring\n\u001b[0;32m---> 22\u001b[0m \u001b[38;5;28;01mfrom\u001b[39;00m \u001b[38;5;21;01mmatplotlib\u001b[39;00m\u001b[38;5;21;01m.\u001b[39;00m\u001b[38;5;21;01mticker\u001b[39;00m \u001b[38;5;28;01mimport\u001b[39;00m (\n\u001b[1;32m     23\u001b[0m     NullFormatter, ScalarFormatter, LogFormatterSciNotation, LogitFormatter,\n\u001b[1;32m     24\u001b[0m     NullLocator, LogLocator, AutoLocator, AutoMinorLocator,\n\u001b[1;32m     25\u001b[0m     SymmetricalLogLocator, AsinhLocator, LogitLocator)\n\u001b[1;32m     26\u001b[0m \u001b[38;5;28;01mfrom\u001b[39;00m \u001b[38;5;21;01mmatplotlib\u001b[39;00m\u001b[38;5;21;01m.\u001b[39;00m\u001b[38;5;21;01mtransforms\u001b[39;00m \u001b[38;5;28;01mimport\u001b[39;00m Transform, IdentityTransform\n\u001b[1;32m     29\u001b[0m \u001b[38;5;28;01mclass\u001b[39;00m \u001b[38;5;21;01mScaleBase\u001b[39;00m:\n",
      "File \u001b[0;32m~/anaconda3/lib/python3.11/site-packages/matplotlib/ticker.py:138\u001b[0m\n\u001b[1;32m    136\u001b[0m \u001b[38;5;28;01mimport\u001b[39;00m \u001b[38;5;21;01mmatplotlib\u001b[39;00m \u001b[38;5;28;01mas\u001b[39;00m \u001b[38;5;21;01mmpl\u001b[39;00m\n\u001b[1;32m    137\u001b[0m \u001b[38;5;28;01mfrom\u001b[39;00m \u001b[38;5;21;01mmatplotlib\u001b[39;00m \u001b[38;5;28;01mimport\u001b[39;00m _api, cbook\n\u001b[0;32m--> 138\u001b[0m \u001b[38;5;28;01mfrom\u001b[39;00m \u001b[38;5;21;01mmatplotlib\u001b[39;00m \u001b[38;5;28;01mimport\u001b[39;00m transforms \u001b[38;5;28;01mas\u001b[39;00m mtransforms\n\u001b[1;32m    140\u001b[0m _log \u001b[38;5;241m=\u001b[39m logging\u001b[38;5;241m.\u001b[39mgetLogger(\u001b[38;5;18m__name__\u001b[39m)\n\u001b[1;32m    142\u001b[0m __all__ \u001b[38;5;241m=\u001b[39m (\u001b[38;5;124m'\u001b[39m\u001b[38;5;124mTickHelper\u001b[39m\u001b[38;5;124m'\u001b[39m, \u001b[38;5;124m'\u001b[39m\u001b[38;5;124mFormatter\u001b[39m\u001b[38;5;124m'\u001b[39m, \u001b[38;5;124m'\u001b[39m\u001b[38;5;124mFixedFormatter\u001b[39m\u001b[38;5;124m'\u001b[39m,\n\u001b[1;32m    143\u001b[0m            \u001b[38;5;124m'\u001b[39m\u001b[38;5;124mNullFormatter\u001b[39m\u001b[38;5;124m'\u001b[39m, \u001b[38;5;124m'\u001b[39m\u001b[38;5;124mFuncFormatter\u001b[39m\u001b[38;5;124m'\u001b[39m, \u001b[38;5;124m'\u001b[39m\u001b[38;5;124mFormatStrFormatter\u001b[39m\u001b[38;5;124m'\u001b[39m,\n\u001b[1;32m    144\u001b[0m            \u001b[38;5;124m'\u001b[39m\u001b[38;5;124mStrMethodFormatter\u001b[39m\u001b[38;5;124m'\u001b[39m, \u001b[38;5;124m'\u001b[39m\u001b[38;5;124mScalarFormatter\u001b[39m\u001b[38;5;124m'\u001b[39m, \u001b[38;5;124m'\u001b[39m\u001b[38;5;124mLogFormatter\u001b[39m\u001b[38;5;124m'\u001b[39m,\n\u001b[0;32m   (...)\u001b[0m\n\u001b[1;32m    150\u001b[0m            \u001b[38;5;124m'\u001b[39m\u001b[38;5;124mMultipleLocator\u001b[39m\u001b[38;5;124m'\u001b[39m, \u001b[38;5;124m'\u001b[39m\u001b[38;5;124mMaxNLocator\u001b[39m\u001b[38;5;124m'\u001b[39m, \u001b[38;5;124m'\u001b[39m\u001b[38;5;124mAutoMinorLocator\u001b[39m\u001b[38;5;124m'\u001b[39m,\n\u001b[1;32m    151\u001b[0m            \u001b[38;5;124m'\u001b[39m\u001b[38;5;124mSymmetricalLogLocator\u001b[39m\u001b[38;5;124m'\u001b[39m, \u001b[38;5;124m'\u001b[39m\u001b[38;5;124mAsinhLocator\u001b[39m\u001b[38;5;124m'\u001b[39m, \u001b[38;5;124m'\u001b[39m\u001b[38;5;124mLogitLocator\u001b[39m\u001b[38;5;124m'\u001b[39m)\n",
      "File \u001b[0;32m~/anaconda3/lib/python3.11/site-packages/matplotlib/transforms.py:49\u001b[0m\n\u001b[1;32m     46\u001b[0m \u001b[38;5;28;01mfrom\u001b[39;00m \u001b[38;5;21;01mnumpy\u001b[39;00m\u001b[38;5;21;01m.\u001b[39;00m\u001b[38;5;21;01mlinalg\u001b[39;00m \u001b[38;5;28;01mimport\u001b[39;00m inv\n\u001b[1;32m     48\u001b[0m \u001b[38;5;28;01mfrom\u001b[39;00m \u001b[38;5;21;01mmatplotlib\u001b[39;00m \u001b[38;5;28;01mimport\u001b[39;00m _api\n\u001b[0;32m---> 49\u001b[0m \u001b[38;5;28;01mfrom\u001b[39;00m \u001b[38;5;21;01mmatplotlib\u001b[39;00m\u001b[38;5;21;01m.\u001b[39;00m\u001b[38;5;21;01m_path\u001b[39;00m \u001b[38;5;28;01mimport\u001b[39;00m (\n\u001b[1;32m     50\u001b[0m     affine_transform, count_bboxes_overlapping_bbox, update_path_extents)\n\u001b[1;32m     51\u001b[0m \u001b[38;5;28;01mfrom\u001b[39;00m \u001b[38;5;21;01m.\u001b[39;00m\u001b[38;5;21;01mpath\u001b[39;00m \u001b[38;5;28;01mimport\u001b[39;00m Path\n\u001b[1;32m     53\u001b[0m DEBUG \u001b[38;5;241m=\u001b[39m \u001b[38;5;28;01mFalse\u001b[39;00m\n",
      "\u001b[0;31mImportError\u001b[0m: numpy.core.multiarray failed to import"
     ]
    }
   ],
   "source": [
    "import matplotlib.pyplot as plt\n",
    "\n",
    "# Label distribution\n",
    "spread = df['label'].value_counts()\n",
    "\n",
    "# Pie chart\n",
    "plt.rcParams['figure.figsize'] = (5, 5)\n",
    "spread.plot(kind='pie', autopct='%1.2f%%', cmap='Set1')\n",
    "plt.title('Distribution of Spam vs Ham')\n",
    "plt.ylabel('')\n",
    "plt.show()\n"
   ]
  },
  {
   "cell_type": "markdown",
   "metadata": {
    "id": "aBbXNme7NuJz"
   },
   "source": [
    "Word Cloud Visualization:"
   ]
  },
  {
   "cell_type": "code",
   "execution_count": null,
   "metadata": {
    "colab": {
     "base_uri": "https://localhost:8080/",
     "height": 313
    },
    "id": "msQu4RZ82d52",
    "outputId": "532154df-a0d2-4492-f735-096d5e54d014"
   },
   "outputs": [],
   "source": [
    "df_spam = df[df['label'] == 1]\n",
    "stopwords = set(STOPWORDS)\n",
    "text = \" \".join(df_spam['text_combined'].astype(str).tolist()).lower()\n",
    "\n",
    "wordcloud = WordCloud(\n",
    "    width=1000,\n",
    "    height=500,\n",
    "    background_color='white',\n",
    "    stopwords=stopwords,\n",
    "    max_words=1000\n",
    ").generate(text)\n",
    "\n",
    "plt.figure(figsize=(6, 6))\n",
    "plt.title(\"Most Used Words in Spam Messages\", fontsize=15, pad=20)\n",
    "plt.imshow(wordcloud, interpolation='bilinear')\n",
    "plt.axis('off')\n",
    "plt.show()\n"
   ]
  },
  {
   "cell_type": "markdown",
   "metadata": {
    "id": "hPfUbQphN1Lu"
   },
   "source": [
    "**Preprocessing Dataset**"
   ]
  },
  {
   "cell_type": "code",
   "execution_count": null,
   "metadata": {
    "id": "LsikJZF9IrrE"
   },
   "outputs": [],
   "source": [
    "CONFIG = {\n",
    "    'model_name': 'distilbert-base-uncased',\n",
    "    'max_length': 128,\n",
    "    'train_split': 0.7,\n",
    "    'val_split': 0.1,\n",
    "    'test_split': 0.2,\n",
    "    'seed': 42\n",
    "}\n",
    "\n",
    "# Normalization:\n",
    "\n",
    "def normalize_text(text):\n",
    "    #Normalizing and cleaning email text while preserving spam indicators\n",
    "\n",
    "    if pd.isna(text):\n",
    "        return \"\"\n",
    "\n",
    "    text = str(text)\n",
    "\n",
    "    #Lowercase\n",
    "    text = text.lower()\n",
    "\n",
    "    #Normalize repeated characters (such as \"oooo \" or \"eeeee\")\n",
    "    text = re.sub(r'(.)\\1{2,}', r'\\1\\1', text)\n",
    "\n",
    "    #Normalize numbers and replace with NUMBER token\n",
    "    text = re.sub(r'\\d+', ' NUMBER ', text)\n",
    "\n",
    "    #Normalize currency symbols\n",
    "    text = re.sub(r'[$£€¥₹]', ' CURRENCY ', text)\n",
    "\n",
    "    #Replace URLs with URL token\n",
    "    text = re.sub(r'http\\S+|www\\.\\S+', ' URL ', text)\n",
    "\n",
    "    #Replace email addresses with EMAIL token\n",
    "    text = re.sub(r'\\S+@\\S+', ' EMAIL ', text)\n",
    "\n",
    "    #Normalize excessive punctuation\n",
    "    text = re.sub(r'!{2,}', ' EXCLAMATION ', text)\n",
    "    text = re.sub(r'\\?{2,}', ' QUESTION ', text)\n",
    "\n",
    "    #Remove HTML tags\n",
    "    text = re.sub(r'<[^>]+>', '', text)\n",
    "\n",
    "    #Remove special characters\n",
    "    text = re.sub(r'[^\\w\\s!?$]', ' ', text)\n",
    "\n",
    "    #Normalize whitespace\n",
    "    text = re.sub(r'\\s+', ' ', text).strip()\n",
    "\n",
    "    #Remove very short texts\n",
    "    if len(text) < 10:\n",
    "        return \"\"\n",
    "\n",
    "    return text\n",
    "\n",
    "df['text_combined'] = df['text_combined'].apply(normalize_text)\n",
    "\n",
    "# Remove empty texts after normalization\n",
    "df = df[df['text_combined'].str.len() > 0].reset_index(drop=True)\n",
    "print(f\"Normalization complete: {len(df)} samples remaining\")"
   ]
  },
  {
   "cell_type": "markdown",
   "metadata": {
    "id": "47Ffp88qJxUe"
   },
   "source": [
    "**Splitting dataset**"
   ]
  },
  {
   "cell_type": "code",
   "execution_count": null,
   "metadata": {
    "id": "QGZY8CO1JvDv"
   },
   "outputs": [],
   "source": [
    "#Test set:\n",
    "train_val_df, test_df = train_test_split(\n",
    "    df,\n",
    "    test_size=CONFIG['test_split'],\n",
    "    random_state=CONFIG['seed'],\n",
    "    stratify=df['label']\n",
    ")\n",
    "\n",
    "#Validation set from training set:\n",
    "val_size = CONFIG['val_split'] / (CONFIG['train_split'] + CONFIG['val_split'])\n",
    "train_df, val_df = train_test_split(\n",
    "    train_val_df,\n",
    "    test_size=val_size,\n",
    "    random_state=CONFIG['seed'],\n",
    "    stratify=train_val_df['label']\n",
    ")\n",
    "\n",
    "print(f\" Train set: {len(train_df)} samples\")\n",
    "print(f\"  - Ham: {(train_df['label']==0).sum()}, Spam: {(train_df['label']==1).sum()}\")\n",
    "print(f\" Validation set: {len(val_df)} samples\")\n",
    "print(f\"  - Ham: {(val_df['label']==0).sum()}, Spam: {(val_df['label']==1).sum()}\")\n",
    "print(f\" Test set: {len(test_df)} samples\")\n",
    "print(f\"  - Ham: {(test_df['label']==0).sum()}, Spam: {(test_df['label']==1).sum()}\")"
   ]
  },
  {
   "cell_type": "markdown",
   "metadata": {
    "id": "iwT9HtIaJ9gA"
   },
   "source": [
    "**Tokenization**"
   ]
  },
  {
   "cell_type": "code",
   "execution_count": 6,
   "metadata": {
    "colab": {
     "base_uri": "https://localhost:8080/",
     "height": 423,
     "referenced_widgets": [
      "04d98d95dba24cfe9d160c21df47df04",
      "1ea537a4c4f545738e732a803976f9e3",
      "1a262e83cf06487ea1ed93e5c63fd661",
      "281b858b3da6461ebabe30b5fc1a9a1f",
      "53c9e2e2bfa64a75bdd92656ce0d5599",
      "f8a5e8f99cd5447587bbf9ce1fe38dd8",
      "32d6e8b7780949b28cba0e1b214b8391",
      "980768470a4646269b7b7a90aa7395be",
      "d33401ba3ff742ca9757120e81c50162",
      "b3bb0168ec1d4bdb81a670f17a2245b8",
      "22ad439995234dea841b487534af89f6"
     ]
    },
    "id": "fAePVpDAJs4M",
    "outputId": "57e350a4-5f94-4543-af8f-d4cd46dc8839"
   },
   "outputs": [
    {
     "data": {
      "application/vnd.jupyter.widget-view+json": {
       "model_id": "04d98d95dba24cfe9d160c21df47df04",
       "version_major": 2,
       "version_minor": 0
      },
      "text/plain": [
       "Map:   0%|          | 0/60043 [00:00<?, ? examples/s]"
      ]
     },
     "metadata": {},
     "output_type": "display_data"
    },
    {
     "ename": "KeyboardInterrupt",
     "evalue": "",
     "output_type": "error",
     "traceback": [
      "\u001b[0;31m---------------------------------------------------------------------------\u001b[0m",
      "\u001b[0;31mKeyboardInterrupt\u001b[0m                         Traceback (most recent call last)",
      "\u001b[0;32m/tmp/ipython-input-3290148653.py\u001b[0m in \u001b[0;36m<cell line: 0>\u001b[0;34m()\u001b[0m\n\u001b[1;32m     17\u001b[0m \u001b[0mtest_dataset\u001b[0m \u001b[0;34m=\u001b[0m \u001b[0mDataset\u001b[0m\u001b[0;34m.\u001b[0m\u001b[0mfrom_pandas\u001b[0m\u001b[0;34m(\u001b[0m\u001b[0mtest_df\u001b[0m\u001b[0;34m[\u001b[0m\u001b[0;34m[\u001b[0m\u001b[0;34m'text_combined'\u001b[0m\u001b[0;34m,\u001b[0m \u001b[0;34m'label'\u001b[0m\u001b[0;34m]\u001b[0m\u001b[0;34m]\u001b[0m\u001b[0;34m)\u001b[0m\u001b[0;34m\u001b[0m\u001b[0;34m\u001b[0m\u001b[0m\n\u001b[1;32m     18\u001b[0m \u001b[0;34m\u001b[0m\u001b[0m\n\u001b[0;32m---> 19\u001b[0;31m \u001b[0mtokenized_train\u001b[0m \u001b[0;34m=\u001b[0m \u001b[0mtrain_dataset\u001b[0m\u001b[0;34m.\u001b[0m\u001b[0mmap\u001b[0m\u001b[0;34m(\u001b[0m\u001b[0mtokenize_function\u001b[0m\u001b[0;34m,\u001b[0m \u001b[0mbatched\u001b[0m\u001b[0;34m=\u001b[0m\u001b[0;32mTrue\u001b[0m\u001b[0;34m,\u001b[0m \u001b[0mremove_columns\u001b[0m\u001b[0;34m=\u001b[0m\u001b[0;34m[\u001b[0m\u001b[0;34m'text_combined'\u001b[0m\u001b[0;34m,\u001b[0m \u001b[0;34m'label'\u001b[0m\u001b[0;34m]\u001b[0m\u001b[0;34m)\u001b[0m\u001b[0;34m\u001b[0m\u001b[0;34m\u001b[0m\u001b[0m\n\u001b[0m\u001b[1;32m     20\u001b[0m \u001b[0mtokenized_val\u001b[0m \u001b[0;34m=\u001b[0m \u001b[0mval_dataset\u001b[0m\u001b[0;34m.\u001b[0m\u001b[0mmap\u001b[0m\u001b[0;34m(\u001b[0m\u001b[0mtokenize_function\u001b[0m\u001b[0;34m,\u001b[0m \u001b[0mbatched\u001b[0m\u001b[0;34m=\u001b[0m\u001b[0;32mTrue\u001b[0m\u001b[0;34m,\u001b[0m \u001b[0mremove_columns\u001b[0m\u001b[0;34m=\u001b[0m\u001b[0;34m[\u001b[0m\u001b[0;34m'text_combined'\u001b[0m\u001b[0;34m,\u001b[0m \u001b[0;34m'label'\u001b[0m\u001b[0;34m]\u001b[0m\u001b[0;34m)\u001b[0m\u001b[0;34m\u001b[0m\u001b[0;34m\u001b[0m\u001b[0m\n\u001b[1;32m     21\u001b[0m \u001b[0mtokenized_test\u001b[0m \u001b[0;34m=\u001b[0m \u001b[0mtest_dataset\u001b[0m\u001b[0;34m.\u001b[0m\u001b[0mmap\u001b[0m\u001b[0;34m(\u001b[0m\u001b[0mtokenize_function\u001b[0m\u001b[0;34m,\u001b[0m \u001b[0mbatched\u001b[0m\u001b[0;34m=\u001b[0m\u001b[0;32mTrue\u001b[0m\u001b[0;34m,\u001b[0m \u001b[0mremove_columns\u001b[0m\u001b[0;34m=\u001b[0m\u001b[0;34m[\u001b[0m\u001b[0;34m'text_combined'\u001b[0m\u001b[0;34m,\u001b[0m \u001b[0;34m'label'\u001b[0m\u001b[0;34m]\u001b[0m\u001b[0;34m)\u001b[0m\u001b[0;34m\u001b[0m\u001b[0;34m\u001b[0m\u001b[0m\n",
      "\u001b[0;32m/usr/local/lib/python3.12/dist-packages/datasets/arrow_dataset.py\u001b[0m in \u001b[0;36mwrapper\u001b[0;34m(*args, **kwargs)\u001b[0m\n\u001b[1;32m    558\u001b[0m         }\n\u001b[1;32m    559\u001b[0m         \u001b[0;31m# apply actual function\u001b[0m\u001b[0;34m\u001b[0m\u001b[0;34m\u001b[0m\u001b[0m\n\u001b[0;32m--> 560\u001b[0;31m         \u001b[0mout\u001b[0m\u001b[0;34m:\u001b[0m \u001b[0mUnion\u001b[0m\u001b[0;34m[\u001b[0m\u001b[0;34m\"Dataset\"\u001b[0m\u001b[0;34m,\u001b[0m \u001b[0;34m\"DatasetDict\"\u001b[0m\u001b[0;34m]\u001b[0m \u001b[0;34m=\u001b[0m \u001b[0mfunc\u001b[0m\u001b[0;34m(\u001b[0m\u001b[0mself\u001b[0m\u001b[0;34m,\u001b[0m \u001b[0;34m*\u001b[0m\u001b[0margs\u001b[0m\u001b[0;34m,\u001b[0m \u001b[0;34m**\u001b[0m\u001b[0mkwargs\u001b[0m\u001b[0;34m)\u001b[0m\u001b[0;34m\u001b[0m\u001b[0;34m\u001b[0m\u001b[0m\n\u001b[0m\u001b[1;32m    561\u001b[0m         \u001b[0mdatasets\u001b[0m\u001b[0;34m:\u001b[0m \u001b[0mlist\u001b[0m\u001b[0;34m[\u001b[0m\u001b[0;34m\"Dataset\"\u001b[0m\u001b[0;34m]\u001b[0m \u001b[0;34m=\u001b[0m \u001b[0mlist\u001b[0m\u001b[0;34m(\u001b[0m\u001b[0mout\u001b[0m\u001b[0;34m.\u001b[0m\u001b[0mvalues\u001b[0m\u001b[0;34m(\u001b[0m\u001b[0;34m)\u001b[0m\u001b[0;34m)\u001b[0m \u001b[0;32mif\u001b[0m \u001b[0misinstance\u001b[0m\u001b[0;34m(\u001b[0m\u001b[0mout\u001b[0m\u001b[0;34m,\u001b[0m \u001b[0mdict\u001b[0m\u001b[0;34m)\u001b[0m \u001b[0;32melse\u001b[0m \u001b[0;34m[\u001b[0m\u001b[0mout\u001b[0m\u001b[0;34m]\u001b[0m\u001b[0;34m\u001b[0m\u001b[0;34m\u001b[0m\u001b[0m\n\u001b[1;32m    562\u001b[0m         \u001b[0;31m# re-apply format to the output\u001b[0m\u001b[0;34m\u001b[0m\u001b[0;34m\u001b[0m\u001b[0m\n",
      "\u001b[0;32m/usr/local/lib/python3.12/dist-packages/datasets/arrow_dataset.py\u001b[0m in \u001b[0;36mmap\u001b[0;34m(self, function, with_indices, with_rank, input_columns, batched, batch_size, drop_last_batch, remove_columns, keep_in_memory, load_from_cache_file, cache_file_name, writer_batch_size, features, disable_nullable, fn_kwargs, num_proc, suffix_template, new_fingerprint, desc, try_original_type)\u001b[0m\n\u001b[1;32m   3316\u001b[0m                 \u001b[0;32melse\u001b[0m\u001b[0;34m:\u001b[0m\u001b[0;34m\u001b[0m\u001b[0;34m\u001b[0m\u001b[0m\n\u001b[1;32m   3317\u001b[0m                     \u001b[0;32mfor\u001b[0m \u001b[0munprocessed_kwargs\u001b[0m \u001b[0;32min\u001b[0m \u001b[0munprocessed_kwargs_per_job\u001b[0m\u001b[0;34m:\u001b[0m\u001b[0;34m\u001b[0m\u001b[0;34m\u001b[0m\u001b[0m\n\u001b[0;32m-> 3318\u001b[0;31m                         \u001b[0;32mfor\u001b[0m \u001b[0mrank\u001b[0m\u001b[0;34m,\u001b[0m \u001b[0mdone\u001b[0m\u001b[0;34m,\u001b[0m \u001b[0mcontent\u001b[0m \u001b[0;32min\u001b[0m \u001b[0mDataset\u001b[0m\u001b[0;34m.\u001b[0m\u001b[0m_map_single\u001b[0m\u001b[0;34m(\u001b[0m\u001b[0;34m**\u001b[0m\u001b[0munprocessed_kwargs\u001b[0m\u001b[0;34m)\u001b[0m\u001b[0;34m:\u001b[0m\u001b[0;34m\u001b[0m\u001b[0;34m\u001b[0m\u001b[0m\n\u001b[0m\u001b[1;32m   3319\u001b[0m                             \u001b[0mcheck_if_shard_done\u001b[0m\u001b[0;34m(\u001b[0m\u001b[0mrank\u001b[0m\u001b[0;34m,\u001b[0m \u001b[0mdone\u001b[0m\u001b[0;34m,\u001b[0m \u001b[0mcontent\u001b[0m\u001b[0;34m)\u001b[0m\u001b[0;34m\u001b[0m\u001b[0;34m\u001b[0m\u001b[0m\n\u001b[1;32m   3320\u001b[0m \u001b[0;34m\u001b[0m\u001b[0m\n",
      "\u001b[0;32m/usr/local/lib/python3.12/dist-packages/datasets/arrow_dataset.py\u001b[0m in \u001b[0;36m_map_single\u001b[0;34m(shard, function, with_indices, with_rank, input_columns, batched, batch_size, drop_last_batch, remove_columns, keep_in_memory, cache_file_name, writer_batch_size, features, disable_nullable, fn_kwargs, new_fingerprint, rank, offset, try_original_type)\u001b[0m\n\u001b[1;32m   3672\u001b[0m                 \u001b[0;32melse\u001b[0m\u001b[0;34m:\u001b[0m\u001b[0;34m\u001b[0m\u001b[0;34m\u001b[0m\u001b[0m\n\u001b[1;32m   3673\u001b[0m                     \u001b[0m_time\u001b[0m \u001b[0;34m=\u001b[0m \u001b[0mtime\u001b[0m\u001b[0;34m.\u001b[0m\u001b[0mtime\u001b[0m\u001b[0;34m(\u001b[0m\u001b[0;34m)\u001b[0m\u001b[0;34m\u001b[0m\u001b[0;34m\u001b[0m\u001b[0m\n\u001b[0;32m-> 3674\u001b[0;31m                     \u001b[0;32mfor\u001b[0m \u001b[0mi\u001b[0m\u001b[0;34m,\u001b[0m \u001b[0mbatch\u001b[0m \u001b[0;32min\u001b[0m \u001b[0miter_outputs\u001b[0m\u001b[0;34m(\u001b[0m\u001b[0mshard_iterable\u001b[0m\u001b[0;34m)\u001b[0m\u001b[0;34m:\u001b[0m\u001b[0;34m\u001b[0m\u001b[0;34m\u001b[0m\u001b[0m\n\u001b[0m\u001b[1;32m   3675\u001b[0m                         \u001b[0mnum_examples_in_batch\u001b[0m \u001b[0;34m=\u001b[0m \u001b[0mlen\u001b[0m\u001b[0;34m(\u001b[0m\u001b[0mi\u001b[0m\u001b[0;34m)\u001b[0m\u001b[0;34m\u001b[0m\u001b[0;34m\u001b[0m\u001b[0m\n\u001b[1;32m   3676\u001b[0m                         \u001b[0;32mif\u001b[0m \u001b[0mupdate_data\u001b[0m\u001b[0;34m:\u001b[0m\u001b[0;34m\u001b[0m\u001b[0;34m\u001b[0m\u001b[0m\n",
      "\u001b[0;32m/usr/local/lib/python3.12/dist-packages/datasets/arrow_dataset.py\u001b[0m in \u001b[0;36miter_outputs\u001b[0;34m(shard_iterable)\u001b[0m\n\u001b[1;32m   3622\u001b[0m             \u001b[0;32melse\u001b[0m\u001b[0;34m:\u001b[0m\u001b[0;34m\u001b[0m\u001b[0;34m\u001b[0m\u001b[0m\n\u001b[1;32m   3623\u001b[0m                 \u001b[0;32mfor\u001b[0m \u001b[0mi\u001b[0m\u001b[0;34m,\u001b[0m \u001b[0mexample\u001b[0m \u001b[0;32min\u001b[0m \u001b[0mshard_iterable\u001b[0m\u001b[0;34m:\u001b[0m\u001b[0;34m\u001b[0m\u001b[0;34m\u001b[0m\u001b[0m\n\u001b[0;32m-> 3624\u001b[0;31m                     \u001b[0;32myield\u001b[0m \u001b[0mi\u001b[0m\u001b[0;34m,\u001b[0m \u001b[0mapply_function\u001b[0m\u001b[0;34m(\u001b[0m\u001b[0mexample\u001b[0m\u001b[0;34m,\u001b[0m \u001b[0mi\u001b[0m\u001b[0;34m,\u001b[0m \u001b[0moffset\u001b[0m\u001b[0;34m=\u001b[0m\u001b[0moffset\u001b[0m\u001b[0;34m)\u001b[0m\u001b[0;34m\u001b[0m\u001b[0;34m\u001b[0m\u001b[0m\n\u001b[0m\u001b[1;32m   3625\u001b[0m \u001b[0;34m\u001b[0m\u001b[0m\n\u001b[1;32m   3626\u001b[0m         \u001b[0mnum_examples_progress_update\u001b[0m \u001b[0;34m=\u001b[0m \u001b[0;36m0\u001b[0m\u001b[0;34m\u001b[0m\u001b[0;34m\u001b[0m\u001b[0m\n",
      "\u001b[0;32m/usr/local/lib/python3.12/dist-packages/datasets/arrow_dataset.py\u001b[0m in \u001b[0;36mapply_function\u001b[0;34m(pa_inputs, indices, offset)\u001b[0m\n\u001b[1;32m   3545\u001b[0m             \u001b[0;34m\"\"\"Utility to apply the function on a selection of columns.\"\"\"\u001b[0m\u001b[0;34m\u001b[0m\u001b[0;34m\u001b[0m\u001b[0m\n\u001b[1;32m   3546\u001b[0m             \u001b[0minputs\u001b[0m\u001b[0;34m,\u001b[0m \u001b[0mfn_args\u001b[0m\u001b[0;34m,\u001b[0m \u001b[0madditional_args\u001b[0m\u001b[0;34m,\u001b[0m \u001b[0mfn_kwargs\u001b[0m \u001b[0;34m=\u001b[0m \u001b[0mprepare_inputs\u001b[0m\u001b[0;34m(\u001b[0m\u001b[0mpa_inputs\u001b[0m\u001b[0;34m,\u001b[0m \u001b[0mindices\u001b[0m\u001b[0;34m,\u001b[0m \u001b[0moffset\u001b[0m\u001b[0;34m=\u001b[0m\u001b[0moffset\u001b[0m\u001b[0;34m)\u001b[0m\u001b[0;34m\u001b[0m\u001b[0;34m\u001b[0m\u001b[0m\n\u001b[0;32m-> 3547\u001b[0;31m             \u001b[0mprocessed_inputs\u001b[0m \u001b[0;34m=\u001b[0m \u001b[0mfunction\u001b[0m\u001b[0;34m(\u001b[0m\u001b[0;34m*\u001b[0m\u001b[0mfn_args\u001b[0m\u001b[0;34m,\u001b[0m \u001b[0;34m*\u001b[0m\u001b[0madditional_args\u001b[0m\u001b[0;34m,\u001b[0m \u001b[0;34m**\u001b[0m\u001b[0mfn_kwargs\u001b[0m\u001b[0;34m)\u001b[0m\u001b[0;34m\u001b[0m\u001b[0;34m\u001b[0m\u001b[0m\n\u001b[0m\u001b[1;32m   3548\u001b[0m             \u001b[0;32mreturn\u001b[0m \u001b[0mprepare_outputs\u001b[0m\u001b[0;34m(\u001b[0m\u001b[0mpa_inputs\u001b[0m\u001b[0;34m,\u001b[0m \u001b[0minputs\u001b[0m\u001b[0;34m,\u001b[0m \u001b[0mprocessed_inputs\u001b[0m\u001b[0;34m)\u001b[0m\u001b[0;34m\u001b[0m\u001b[0;34m\u001b[0m\u001b[0m\n\u001b[1;32m   3549\u001b[0m \u001b[0;34m\u001b[0m\u001b[0m\n",
      "\u001b[0;32m/tmp/ipython-input-3290148653.py\u001b[0m in \u001b[0;36mtokenize_function\u001b[0;34m(examples)\u001b[0m\n\u001b[1;32m      1\u001b[0m \u001b[0;32mdef\u001b[0m \u001b[0mtokenize_function\u001b[0m\u001b[0;34m(\u001b[0m\u001b[0mexamples\u001b[0m\u001b[0;34m)\u001b[0m\u001b[0;34m:\u001b[0m\u001b[0;34m\u001b[0m\u001b[0;34m\u001b[0m\u001b[0m\n\u001b[1;32m      2\u001b[0m \u001b[0;34m\u001b[0m\u001b[0m\n\u001b[0;32m----> 3\u001b[0;31m     tokens = tokenizer(\n\u001b[0m\u001b[1;32m      4\u001b[0m         \u001b[0mexamples\u001b[0m\u001b[0;34m[\u001b[0m\u001b[0;34m'text_combined'\u001b[0m\u001b[0;34m]\u001b[0m\u001b[0;34m,\u001b[0m\u001b[0;34m\u001b[0m\u001b[0;34m\u001b[0m\u001b[0m\n\u001b[1;32m      5\u001b[0m         \u001b[0mmax_length\u001b[0m\u001b[0;34m=\u001b[0m\u001b[0mCONFIG\u001b[0m\u001b[0;34m[\u001b[0m\u001b[0;34m'max_length'\u001b[0m\u001b[0;34m]\u001b[0m\u001b[0;34m,\u001b[0m\u001b[0;34m\u001b[0m\u001b[0;34m\u001b[0m\u001b[0m\n",
      "\u001b[0;32m/usr/local/lib/python3.12/dist-packages/transformers/tokenization_utils_base.py\u001b[0m in \u001b[0;36m__call__\u001b[0;34m(self, text, text_pair, text_target, text_pair_target, add_special_tokens, padding, truncation, max_length, stride, is_split_into_words, pad_to_multiple_of, padding_side, return_tensors, return_token_type_ids, return_attention_mask, return_overflowing_tokens, return_special_tokens_mask, return_offsets_mapping, return_length, verbose, **kwargs)\u001b[0m\n\u001b[1;32m   2936\u001b[0m             \u001b[0;32mif\u001b[0m \u001b[0;32mnot\u001b[0m \u001b[0mself\u001b[0m\u001b[0;34m.\u001b[0m\u001b[0m_in_target_context_manager\u001b[0m\u001b[0;34m:\u001b[0m\u001b[0;34m\u001b[0m\u001b[0;34m\u001b[0m\u001b[0m\n\u001b[1;32m   2937\u001b[0m                 \u001b[0mself\u001b[0m\u001b[0;34m.\u001b[0m\u001b[0m_switch_to_input_mode\u001b[0m\u001b[0;34m(\u001b[0m\u001b[0;34m)\u001b[0m\u001b[0;34m\u001b[0m\u001b[0;34m\u001b[0m\u001b[0m\n\u001b[0;32m-> 2938\u001b[0;31m             \u001b[0mencodings\u001b[0m \u001b[0;34m=\u001b[0m \u001b[0mself\u001b[0m\u001b[0;34m.\u001b[0m\u001b[0m_call_one\u001b[0m\u001b[0;34m(\u001b[0m\u001b[0mtext\u001b[0m\u001b[0;34m=\u001b[0m\u001b[0mtext\u001b[0m\u001b[0;34m,\u001b[0m \u001b[0mtext_pair\u001b[0m\u001b[0;34m=\u001b[0m\u001b[0mtext_pair\u001b[0m\u001b[0;34m,\u001b[0m \u001b[0;34m**\u001b[0m\u001b[0mall_kwargs\u001b[0m\u001b[0;34m)\u001b[0m\u001b[0;34m\u001b[0m\u001b[0;34m\u001b[0m\u001b[0m\n\u001b[0m\u001b[1;32m   2939\u001b[0m         \u001b[0;32mif\u001b[0m \u001b[0mtext_target\u001b[0m \u001b[0;32mis\u001b[0m \u001b[0;32mnot\u001b[0m \u001b[0;32mNone\u001b[0m\u001b[0;34m:\u001b[0m\u001b[0;34m\u001b[0m\u001b[0;34m\u001b[0m\u001b[0m\n\u001b[1;32m   2940\u001b[0m             \u001b[0mself\u001b[0m\u001b[0;34m.\u001b[0m\u001b[0m_switch_to_target_mode\u001b[0m\u001b[0;34m(\u001b[0m\u001b[0;34m)\u001b[0m\u001b[0;34m\u001b[0m\u001b[0;34m\u001b[0m\u001b[0m\n",
      "\u001b[0;32m/usr/local/lib/python3.12/dist-packages/transformers/tokenization_utils_base.py\u001b[0m in \u001b[0;36m_call_one\u001b[0;34m(self, text, text_pair, add_special_tokens, padding, truncation, max_length, stride, is_split_into_words, pad_to_multiple_of, padding_side, return_tensors, return_token_type_ids, return_attention_mask, return_overflowing_tokens, return_special_tokens_mask, return_offsets_mapping, return_length, verbose, split_special_tokens, **kwargs)\u001b[0m\n\u001b[1;32m   3024\u001b[0m                 )\n\u001b[1;32m   3025\u001b[0m             \u001b[0mbatch_text_or_text_pairs\u001b[0m \u001b[0;34m=\u001b[0m \u001b[0mlist\u001b[0m\u001b[0;34m(\u001b[0m\u001b[0mzip\u001b[0m\u001b[0;34m(\u001b[0m\u001b[0mtext\u001b[0m\u001b[0;34m,\u001b[0m \u001b[0mtext_pair\u001b[0m\u001b[0;34m)\u001b[0m\u001b[0;34m)\u001b[0m \u001b[0;32mif\u001b[0m \u001b[0mtext_pair\u001b[0m \u001b[0;32mis\u001b[0m \u001b[0;32mnot\u001b[0m \u001b[0;32mNone\u001b[0m \u001b[0;32melse\u001b[0m \u001b[0mtext\u001b[0m\u001b[0;34m\u001b[0m\u001b[0;34m\u001b[0m\u001b[0m\n\u001b[0;32m-> 3026\u001b[0;31m             return self.batch_encode_plus(\n\u001b[0m\u001b[1;32m   3027\u001b[0m                 \u001b[0mbatch_text_or_text_pairs\u001b[0m\u001b[0;34m=\u001b[0m\u001b[0mbatch_text_or_text_pairs\u001b[0m\u001b[0;34m,\u001b[0m\u001b[0;34m\u001b[0m\u001b[0;34m\u001b[0m\u001b[0m\n\u001b[1;32m   3028\u001b[0m                 \u001b[0madd_special_tokens\u001b[0m\u001b[0;34m=\u001b[0m\u001b[0madd_special_tokens\u001b[0m\u001b[0;34m,\u001b[0m\u001b[0;34m\u001b[0m\u001b[0;34m\u001b[0m\u001b[0m\n",
      "\u001b[0;32m/usr/local/lib/python3.12/dist-packages/transformers/tokenization_utils_base.py\u001b[0m in \u001b[0;36mbatch_encode_plus\u001b[0;34m(self, batch_text_or_text_pairs, add_special_tokens, padding, truncation, max_length, stride, is_split_into_words, pad_to_multiple_of, padding_side, return_tensors, return_token_type_ids, return_attention_mask, return_overflowing_tokens, return_special_tokens_mask, return_offsets_mapping, return_length, verbose, split_special_tokens, **kwargs)\u001b[0m\n\u001b[1;32m   3225\u001b[0m         )\n\u001b[1;32m   3226\u001b[0m \u001b[0;34m\u001b[0m\u001b[0m\n\u001b[0;32m-> 3227\u001b[0;31m         return self._batch_encode_plus(\n\u001b[0m\u001b[1;32m   3228\u001b[0m             \u001b[0mbatch_text_or_text_pairs\u001b[0m\u001b[0;34m=\u001b[0m\u001b[0mbatch_text_or_text_pairs\u001b[0m\u001b[0;34m,\u001b[0m\u001b[0;34m\u001b[0m\u001b[0;34m\u001b[0m\u001b[0m\n\u001b[1;32m   3229\u001b[0m             \u001b[0madd_special_tokens\u001b[0m\u001b[0;34m=\u001b[0m\u001b[0madd_special_tokens\u001b[0m\u001b[0;34m,\u001b[0m\u001b[0;34m\u001b[0m\u001b[0;34m\u001b[0m\u001b[0m\n",
      "\u001b[0;32m/usr/local/lib/python3.12/dist-packages/transformers/tokenization_utils_fast.py\u001b[0m in \u001b[0;36m_batch_encode_plus\u001b[0;34m(self, batch_text_or_text_pairs, add_special_tokens, padding_strategy, truncation_strategy, max_length, stride, is_split_into_words, pad_to_multiple_of, padding_side, return_tensors, return_token_type_ids, return_attention_mask, return_overflowing_tokens, return_special_tokens_mask, return_offsets_mapping, return_length, verbose, split_special_tokens)\u001b[0m\n\u001b[1;32m    551\u001b[0m             \u001b[0mself\u001b[0m\u001b[0;34m.\u001b[0m\u001b[0m_tokenizer\u001b[0m\u001b[0;34m.\u001b[0m\u001b[0mencode_special_tokens\u001b[0m \u001b[0;34m=\u001b[0m \u001b[0msplit_special_tokens\u001b[0m\u001b[0;34m\u001b[0m\u001b[0;34m\u001b[0m\u001b[0m\n\u001b[1;32m    552\u001b[0m \u001b[0;34m\u001b[0m\u001b[0m\n\u001b[0;32m--> 553\u001b[0;31m         encodings = self._tokenizer.encode_batch(\n\u001b[0m\u001b[1;32m    554\u001b[0m             \u001b[0mbatch_text_or_text_pairs\u001b[0m\u001b[0;34m,\u001b[0m\u001b[0;34m\u001b[0m\u001b[0;34m\u001b[0m\u001b[0m\n\u001b[1;32m    555\u001b[0m             \u001b[0madd_special_tokens\u001b[0m\u001b[0;34m=\u001b[0m\u001b[0madd_special_tokens\u001b[0m\u001b[0;34m,\u001b[0m\u001b[0;34m\u001b[0m\u001b[0;34m\u001b[0m\u001b[0m\n",
      "\u001b[0;31mKeyboardInterrupt\u001b[0m: "
     ]
    }
   ],
   "source": [
    "def tokenize_function(examples):\n",
    "\n",
    "    tokens = tokenizer(\n",
    "        examples['text_combined'],\n",
    "        max_length=CONFIG['max_length'],\n",
    "        padding='max_length',\n",
    "        truncation=True,\n",
    "        return_attention_mask=True\n",
    "    )\n",
    "    tokens['labels'] = examples['label']\n",
    "    return tokens\n",
    "\n",
    "tokenizer = AutoTokenizer.from_pretrained(CONFIG['model_name'])\n",
    "\n",
    "train_dataset = Dataset.from_pandas(train_df[['text_combined', 'label']])\n",
    "val_dataset = Dataset.from_pandas(val_df[['text_combined', 'label']])\n",
    "test_dataset = Dataset.from_pandas(test_df[['text_combined', 'label']])\n",
    "\n",
    "tokenized_train = train_dataset.map(tokenize_function, batched=True, remove_columns=['text_combined', 'label'])\n",
    "tokenized_val = val_dataset.map(tokenize_function, batched=True, remove_columns=['text_combined', 'label'])\n",
    "tokenized_test = test_dataset.map(tokenize_function, batched=True, remove_columns=['text_combined', 'label'])\n",
    "\n",
    "#Final Dataset:\n",
    "final_dataset = DatasetDict({'train': tokenized_train, 'validation': tokenized_val,'test': tokenized_test})\n",
    "\n",
    "print(final_dataset)"
   ]
  }
 ],
 "metadata": {
  "accelerator": "GPU",
  "colab": {
   "gpuType": "T4",
   "provenance": []
  },
  "kernelspec": {
   "display_name": "Python 3 (ipykernel)",
   "language": "python",
   "name": "python3"
  },
  "language_info": {
   "codemirror_mode": {
    "name": "ipython",
    "version": 3
   },
   "file_extension": ".py",
   "mimetype": "text/x-python",
   "name": "python",
   "nbconvert_exporter": "python",
   "pygments_lexer": "ipython3",
   "version": "3.11.5"
  },
  "widgets": {
   "application/vnd.jupyter.widget-state+json": {
    "04d98d95dba24cfe9d160c21df47df04": {
     "model_module": "@jupyter-widgets/controls",
     "model_module_version": "1.5.0",
     "model_name": "HBoxModel",
     "state": {
      "_dom_classes": [],
      "_model_module": "@jupyter-widgets/controls",
      "_model_module_version": "1.5.0",
      "_model_name": "HBoxModel",
      "_view_count": null,
      "_view_module": "@jupyter-widgets/controls",
      "_view_module_version": "1.5.0",
      "_view_name": "HBoxView",
      "box_style": "",
      "children": [
       "IPY_MODEL_1ea537a4c4f545738e732a803976f9e3",
       "IPY_MODEL_1a262e83cf06487ea1ed93e5c63fd661",
       "IPY_MODEL_281b858b3da6461ebabe30b5fc1a9a1f"
      ],
      "layout": "IPY_MODEL_53c9e2e2bfa64a75bdd92656ce0d5599"
     }
    },
    "1a262e83cf06487ea1ed93e5c63fd661": {
     "model_module": "@jupyter-widgets/controls",
     "model_module_version": "1.5.0",
     "model_name": "FloatProgressModel",
     "state": {
      "_dom_classes": [],
      "_model_module": "@jupyter-widgets/controls",
      "_model_module_version": "1.5.0",
      "_model_name": "FloatProgressModel",
      "_view_count": null,
      "_view_module": "@jupyter-widgets/controls",
      "_view_module_version": "1.5.0",
      "_view_name": "ProgressView",
      "bar_style": "danger",
      "description": "",
      "description_tooltip": null,
      "layout": "IPY_MODEL_980768470a4646269b7b7a90aa7395be",
      "max": 60043,
      "min": 0,
      "orientation": "horizontal",
      "style": "IPY_MODEL_d33401ba3ff742ca9757120e81c50162",
      "value": 17000
     }
    },
    "1ea537a4c4f545738e732a803976f9e3": {
     "model_module": "@jupyter-widgets/controls",
     "model_module_version": "1.5.0",
     "model_name": "HTMLModel",
     "state": {
      "_dom_classes": [],
      "_model_module": "@jupyter-widgets/controls",
      "_model_module_version": "1.5.0",
      "_model_name": "HTMLModel",
      "_view_count": null,
      "_view_module": "@jupyter-widgets/controls",
      "_view_module_version": "1.5.0",
      "_view_name": "HTMLView",
      "description": "",
      "description_tooltip": null,
      "layout": "IPY_MODEL_f8a5e8f99cd5447587bbf9ce1fe38dd8",
      "placeholder": "​",
      "style": "IPY_MODEL_32d6e8b7780949b28cba0e1b214b8391",
      "value": "Map:  28%"
     }
    },
    "22ad439995234dea841b487534af89f6": {
     "model_module": "@jupyter-widgets/controls",
     "model_module_version": "1.5.0",
     "model_name": "DescriptionStyleModel",
     "state": {
      "_model_module": "@jupyter-widgets/controls",
      "_model_module_version": "1.5.0",
      "_model_name": "DescriptionStyleModel",
      "_view_count": null,
      "_view_module": "@jupyter-widgets/base",
      "_view_module_version": "1.2.0",
      "_view_name": "StyleView",
      "description_width": ""
     }
    },
    "281b858b3da6461ebabe30b5fc1a9a1f": {
     "model_module": "@jupyter-widgets/controls",
     "model_module_version": "1.5.0",
     "model_name": "HTMLModel",
     "state": {
      "_dom_classes": [],
      "_model_module": "@jupyter-widgets/controls",
      "_model_module_version": "1.5.0",
      "_model_name": "HTMLModel",
      "_view_count": null,
      "_view_module": "@jupyter-widgets/controls",
      "_view_module_version": "1.5.0",
      "_view_name": "HTMLView",
      "description": "",
      "description_tooltip": null,
      "layout": "IPY_MODEL_b3bb0168ec1d4bdb81a670f17a2245b8",
      "placeholder": "​",
      "style": "IPY_MODEL_22ad439995234dea841b487534af89f6",
      "value": " 17000/60043 [00:25&lt;00:54, 787.31 examples/s]"
     }
    },
    "32d6e8b7780949b28cba0e1b214b8391": {
     "model_module": "@jupyter-widgets/controls",
     "model_module_version": "1.5.0",
     "model_name": "DescriptionStyleModel",
     "state": {
      "_model_module": "@jupyter-widgets/controls",
      "_model_module_version": "1.5.0",
      "_model_name": "DescriptionStyleModel",
      "_view_count": null,
      "_view_module": "@jupyter-widgets/base",
      "_view_module_version": "1.2.0",
      "_view_name": "StyleView",
      "description_width": ""
     }
    },
    "53c9e2e2bfa64a75bdd92656ce0d5599": {
     "model_module": "@jupyter-widgets/base",
     "model_module_version": "1.2.0",
     "model_name": "LayoutModel",
     "state": {
      "_model_module": "@jupyter-widgets/base",
      "_model_module_version": "1.2.0",
      "_model_name": "LayoutModel",
      "_view_count": null,
      "_view_module": "@jupyter-widgets/base",
      "_view_module_version": "1.2.0",
      "_view_name": "LayoutView",
      "align_content": null,
      "align_items": null,
      "align_self": null,
      "border": null,
      "bottom": null,
      "display": null,
      "flex": null,
      "flex_flow": null,
      "grid_area": null,
      "grid_auto_columns": null,
      "grid_auto_flow": null,
      "grid_auto_rows": null,
      "grid_column": null,
      "grid_gap": null,
      "grid_row": null,
      "grid_template_areas": null,
      "grid_template_columns": null,
      "grid_template_rows": null,
      "height": null,
      "justify_content": null,
      "justify_items": null,
      "left": null,
      "margin": null,
      "max_height": null,
      "max_width": null,
      "min_height": null,
      "min_width": null,
      "object_fit": null,
      "object_position": null,
      "order": null,
      "overflow": null,
      "overflow_x": null,
      "overflow_y": null,
      "padding": null,
      "right": null,
      "top": null,
      "visibility": null,
      "width": null
     }
    },
    "980768470a4646269b7b7a90aa7395be": {
     "model_module": "@jupyter-widgets/base",
     "model_module_version": "1.2.0",
     "model_name": "LayoutModel",
     "state": {
      "_model_module": "@jupyter-widgets/base",
      "_model_module_version": "1.2.0",
      "_model_name": "LayoutModel",
      "_view_count": null,
      "_view_module": "@jupyter-widgets/base",
      "_view_module_version": "1.2.0",
      "_view_name": "LayoutView",
      "align_content": null,
      "align_items": null,
      "align_self": null,
      "border": null,
      "bottom": null,
      "display": null,
      "flex": null,
      "flex_flow": null,
      "grid_area": null,
      "grid_auto_columns": null,
      "grid_auto_flow": null,
      "grid_auto_rows": null,
      "grid_column": null,
      "grid_gap": null,
      "grid_row": null,
      "grid_template_areas": null,
      "grid_template_columns": null,
      "grid_template_rows": null,
      "height": null,
      "justify_content": null,
      "justify_items": null,
      "left": null,
      "margin": null,
      "max_height": null,
      "max_width": null,
      "min_height": null,
      "min_width": null,
      "object_fit": null,
      "object_position": null,
      "order": null,
      "overflow": null,
      "overflow_x": null,
      "overflow_y": null,
      "padding": null,
      "right": null,
      "top": null,
      "visibility": null,
      "width": null
     }
    },
    "b3bb0168ec1d4bdb81a670f17a2245b8": {
     "model_module": "@jupyter-widgets/base",
     "model_module_version": "1.2.0",
     "model_name": "LayoutModel",
     "state": {
      "_model_module": "@jupyter-widgets/base",
      "_model_module_version": "1.2.0",
      "_model_name": "LayoutModel",
      "_view_count": null,
      "_view_module": "@jupyter-widgets/base",
      "_view_module_version": "1.2.0",
      "_view_name": "LayoutView",
      "align_content": null,
      "align_items": null,
      "align_self": null,
      "border": null,
      "bottom": null,
      "display": null,
      "flex": null,
      "flex_flow": null,
      "grid_area": null,
      "grid_auto_columns": null,
      "grid_auto_flow": null,
      "grid_auto_rows": null,
      "grid_column": null,
      "grid_gap": null,
      "grid_row": null,
      "grid_template_areas": null,
      "grid_template_columns": null,
      "grid_template_rows": null,
      "height": null,
      "justify_content": null,
      "justify_items": null,
      "left": null,
      "margin": null,
      "max_height": null,
      "max_width": null,
      "min_height": null,
      "min_width": null,
      "object_fit": null,
      "object_position": null,
      "order": null,
      "overflow": null,
      "overflow_x": null,
      "overflow_y": null,
      "padding": null,
      "right": null,
      "top": null,
      "visibility": null,
      "width": null
     }
    },
    "d33401ba3ff742ca9757120e81c50162": {
     "model_module": "@jupyter-widgets/controls",
     "model_module_version": "1.5.0",
     "model_name": "ProgressStyleModel",
     "state": {
      "_model_module": "@jupyter-widgets/controls",
      "_model_module_version": "1.5.0",
      "_model_name": "ProgressStyleModel",
      "_view_count": null,
      "_view_module": "@jupyter-widgets/base",
      "_view_module_version": "1.2.0",
      "_view_name": "StyleView",
      "bar_color": null,
      "description_width": ""
     }
    },
    "f8a5e8f99cd5447587bbf9ce1fe38dd8": {
     "model_module": "@jupyter-widgets/base",
     "model_module_version": "1.2.0",
     "model_name": "LayoutModel",
     "state": {
      "_model_module": "@jupyter-widgets/base",
      "_model_module_version": "1.2.0",
      "_model_name": "LayoutModel",
      "_view_count": null,
      "_view_module": "@jupyter-widgets/base",
      "_view_module_version": "1.2.0",
      "_view_name": "LayoutView",
      "align_content": null,
      "align_items": null,
      "align_self": null,
      "border": null,
      "bottom": null,
      "display": null,
      "flex": null,
      "flex_flow": null,
      "grid_area": null,
      "grid_auto_columns": null,
      "grid_auto_flow": null,
      "grid_auto_rows": null,
      "grid_column": null,
      "grid_gap": null,
      "grid_row": null,
      "grid_template_areas": null,
      "grid_template_columns": null,
      "grid_template_rows": null,
      "height": null,
      "justify_content": null,
      "justify_items": null,
      "left": null,
      "margin": null,
      "max_height": null,
      "max_width": null,
      "min_height": null,
      "min_width": null,
      "object_fit": null,
      "object_position": null,
      "order": null,
      "overflow": null,
      "overflow_x": null,
      "overflow_y": null,
      "padding": null,
      "right": null,
      "top": null,
      "visibility": null,
      "width": null
     }
    }
   }
  }
 },
 "nbformat": 4,
 "nbformat_minor": 1
>>>>>>> 6e119afb30a5f3801c4e3ba7679ff9325d192075
}
